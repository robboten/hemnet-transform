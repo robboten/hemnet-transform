{
 "cells": [
  {
   "cell_type": "code",
   "execution_count": 1,
   "id": "65f5faca",
   "metadata": {},
   "outputs": [],
   "source": [
    "import glob\n",
    "import os\n",
    "\n",
    "import pandas as pd"
   ]
  },
  {
   "cell_type": "code",
   "execution_count": 2,
   "id": "3fe4a7a6",
   "metadata": {},
   "outputs": [],
   "source": [
    "pd.set_option(\"display.max_columns\", None)\n",
    "pd.set_option('display.max_rows', 50)\n",
    "pd.options.display.float_format = \"{:.0f}\".format"
   ]
  },
  {
   "cell_type": "markdown",
   "id": "a0f1b989",
   "metadata": {},
   "source": [
    "#### Ta reda på antalet kolumner och rader i alla områden:"
   ]
  },
  {
   "cell_type": "code",
   "execution_count": 3,
   "id": "024c8c6c",
   "metadata": {},
   "outputs": [
    {
     "name": "stdout",
     "output_type": "stream",
     "text": [
      "3536\n",
      "3536\n",
      "CPU times: user 32.4 s, sys: 6.18 s, total: 38.5 s\n",
      "Wall time: 23.6 s\n"
     ]
    }
   ],
   "source": [
    "%%time\n",
    "df_list = []\n",
    "nr_of_files = 0\n",
    "for subdir, dirs, files in os.walk(\"../data/\"):\n",
    "    for file in files:\n",
    "        if file.endswith(\".gzip\"):\n",
    "            nr_of_files += 1\n",
    "            file_path = os.path.join(subdir, file)\n",
    "            df = pd.read_parquet(file_path)\n",
    "            df_list.append(df)            \n",
    "print(nr_of_files)\n",
    "print(len(df_list))"
   ]
  },
  {
   "cell_type": "code",
   "execution_count": 5,
   "id": "b65bb65f",
   "metadata": {},
   "outputs": [],
   "source": [
    "shape_list = []\n",
    "for df in df_list:\n",
    "    shape_list.append(df.shape[1])"
   ]
  },
  {
   "cell_type": "markdown",
   "id": "1c1e05b3",
   "metadata": {},
   "source": [
    "#### Count and plot the distribution"
   ]
  },
  {
   "cell_type": "code",
   "execution_count": 6,
   "id": "639ce161",
   "metadata": {},
   "outputs": [
    {
     "data": {
      "text/plain": [
       "0"
      ]
     },
     "execution_count": 6,
     "metadata": {},
     "output_type": "execute_result"
    }
   ],
   "source": [
    "shape_list.count(39)"
   ]
  },
  {
   "cell_type": "code",
   "execution_count": 7,
   "id": "71aa6055",
   "metadata": {},
   "outputs": [
    {
     "data": {
      "text/plain": [
       "7"
      ]
     },
     "execution_count": 7,
     "metadata": {},
     "output_type": "execute_result"
    }
   ],
   "source": [
    "shape_list.count(40)"
   ]
  },
  {
   "cell_type": "code",
   "execution_count": 8,
   "id": "1751dcb7",
   "metadata": {},
   "outputs": [
    {
     "data": {
      "text/plain": [
       "93"
      ]
     },
     "execution_count": 8,
     "metadata": {},
     "output_type": "execute_result"
    }
   ],
   "source": [
    "shape_list.count(41)"
   ]
  },
  {
   "cell_type": "code",
   "execution_count": 9,
   "id": "3f032e03",
   "metadata": {},
   "outputs": [
    {
     "data": {
      "text/plain": [
       "48"
      ]
     },
     "execution_count": 9,
     "metadata": {},
     "output_type": "execute_result"
    }
   ],
   "source": [
    "shape_list.count(42)"
   ]
  },
  {
   "cell_type": "code",
   "execution_count": 10,
   "id": "bdfdd3dc",
   "metadata": {},
   "outputs": [
    {
     "data": {
      "text/plain": [
       "1389"
      ]
     },
     "execution_count": 10,
     "metadata": {},
     "output_type": "execute_result"
    }
   ],
   "source": [
    "shape_list.count(43)"
   ]
  },
  {
   "cell_type": "code",
   "execution_count": 11,
   "id": "68c1307e",
   "metadata": {},
   "outputs": [
    {
     "data": {
      "text/plain": [
       "113"
      ]
     },
     "execution_count": 11,
     "metadata": {},
     "output_type": "execute_result"
    }
   ],
   "source": [
    "shape_list.count(44)"
   ]
  },
  {
   "cell_type": "code",
   "execution_count": 12,
   "id": "96abd7c7",
   "metadata": {},
   "outputs": [
    {
     "data": {
      "text/plain": [
       "9"
      ]
     },
     "execution_count": 12,
     "metadata": {},
     "output_type": "execute_result"
    }
   ],
   "source": [
    "shape_list.count(45)"
   ]
  },
  {
   "cell_type": "code",
   "execution_count": 13,
   "id": "a3f9f9a0",
   "metadata": {},
   "outputs": [
    {
     "data": {
      "text/plain": [
       "1877"
      ]
     },
     "execution_count": 13,
     "metadata": {},
     "output_type": "execute_result"
    }
   ],
   "source": [
    "shape_list.count(46)"
   ]
  },
  {
   "cell_type": "code",
   "execution_count": 14,
   "id": "5a0b1fc6",
   "metadata": {},
   "outputs": [
    {
     "data": {
      "text/plain": [
       "0"
      ]
     },
     "execution_count": 14,
     "metadata": {},
     "output_type": "execute_result"
    }
   ],
   "source": [
    "shape_list.count(47)"
   ]
  },
  {
   "cell_type": "code",
   "execution_count": null,
   "id": "b3af1f71",
   "metadata": {},
   "outputs": [],
   "source": []
  },
  {
   "cell_type": "code",
   "execution_count": 15,
   "id": "7307aee9",
   "metadata": {},
   "outputs": [
    {
     "data": {
      "text/plain": [
       "(477326, 46)"
      ]
     },
     "execution_count": 15,
     "metadata": {},
     "output_type": "execute_result"
    }
   ],
   "source": [
    "all_df_files_concat = pd.concat(df_list)\n",
    "all_df_files_concat.shape"
   ]
  },
  {
   "cell_type": "code",
   "execution_count": 16,
   "id": "eb3f2392",
   "metadata": {},
   "outputs": [
    {
     "name": "stdout",
     "output_type": "stream",
     "text": [
      "<class 'pandas.core.frame.DataFrame'>\n",
      "Int64Index: 477326 entries, 0 to 51\n",
      "Data columns (total 46 columns):\n",
      " #   Column                           Non-Null Count   Dtype  \n",
      "---  ------                           --------------   -----  \n",
      " 0   id                               477326 non-null  int64  \n",
      " 1   coordinate                       477326 non-null  object \n",
      " 2   address                          477249 non-null  object \n",
      " 3   location_name                    477326 non-null  object \n",
      " 4   typeSummary                      477326 non-null  object \n",
      " 5   iconName                         477326 non-null  object \n",
      " 6   project                          477326 non-null  bool   \n",
      " 7   new_construction                 477326 non-null  bool   \n",
      " 8   ongoing_bidding                  477326 non-null  bool   \n",
      " 9   foreclosure                      477326 non-null  bool   \n",
      " 10  upcoming                         477326 non-null  bool   \n",
      " 11  price                            477021 non-null  object \n",
      " 12  price_per_area                   370153 non-null  object \n",
      " 13  has_price_change                 477326 non-null  bool   \n",
      " 14  rooms                            453618 non-null  object \n",
      " 15  fee                              374648 non-null  object \n",
      " 16  age_string                       477326 non-null  object \n",
      " 17  age                              477326 non-null  int64  \n",
      " 18  deactivated_before_open_house    477326 non-null  bool   \n",
      " 19  land_area                        101476 non-null  object \n",
      " 20  small_image_url                  477326 non-null  object \n",
      " 21  medium_image_url                 477098 non-null  object \n",
      " 22  url                              477326 non-null  object \n",
      " 23  labels                           477326 non-null  object \n",
      " 24  state_labels                     477326 non-null  object \n",
      " 25  visible_project_units            453154 non-null  float64\n",
      " 26  show_visible_project_units       453154 non-null  object \n",
      " 27  user_saved                       477326 non-null  bool   \n",
      " 28  save_button_label                477326 non-null  object \n",
      " 29  broker_logo_url                  460918 non-null  object \n",
      " 30  broker_agency_name               477326 non-null  object \n",
      " 31  locations_string                 477326 non-null  object \n",
      " 32  should_display_showings          477326 non-null  bool   \n",
      " 33  should_highlight_showings        477326 non-null  bool   \n",
      " 34  living_space.table               477326 non-null  object \n",
      " 35  trackingData.listingId           477326 non-null  object \n",
      " 36  trackingData.listingType         477326 non-null  object \n",
      " 37  trackingData.listingPackageType  477326 non-null  object \n",
      " 38  trackingData.listingState        477326 non-null  object \n",
      " 39  trackingData.listingStatus       477326 non-null  object \n",
      " 40  broker_name                      7185 non-null    object \n",
      " 41  broker_phone                     7129 non-null    object \n",
      " 42  broker_email                     7185 non-null    object \n",
      " 43  price_change                     59138 non-null   float64\n",
      " 44  area                             477326 non-null  object \n",
      " 45  date                             476104 non-null  object \n",
      "dtypes: bool(10), float64(2), int64(2), object(32)\n",
      "memory usage: 139.3+ MB\n"
     ]
    }
   ],
   "source": [
    "all_df_files_concat.info(show_counts=True)"
   ]
  },
  {
   "cell_type": "code",
   "execution_count": 17,
   "id": "dfb7935d",
   "metadata": {},
   "outputs": [
    {
     "data": {
      "text/plain": [
       "14952"
      ]
     },
     "execution_count": 17,
     "metadata": {},
     "output_type": "execute_result"
    }
   ],
   "source": [
    "all_df_files_concat[\"id\"].nunique()"
   ]
  },
  {
   "cell_type": "code",
   "execution_count": 18,
   "id": "f35c5bbb",
   "metadata": {},
   "outputs": [
    {
     "data": {
      "text/html": [
       "<div>\n",
       "<style scoped>\n",
       "    .dataframe tbody tr th:only-of-type {\n",
       "        vertical-align: middle;\n",
       "    }\n",
       "\n",
       "    .dataframe tbody tr th {\n",
       "        vertical-align: top;\n",
       "    }\n",
       "\n",
       "    .dataframe thead th {\n",
       "        text-align: right;\n",
       "    }\n",
       "</style>\n",
       "<table border=\"1\" class=\"dataframe\">\n",
       "  <thead>\n",
       "    <tr style=\"text-align: right;\">\n",
       "      <th></th>\n",
       "      <th>id</th>\n",
       "      <th>coordinate</th>\n",
       "      <th>address</th>\n",
       "      <th>location_name</th>\n",
       "      <th>typeSummary</th>\n",
       "      <th>iconName</th>\n",
       "      <th>project</th>\n",
       "      <th>new_construction</th>\n",
       "      <th>ongoing_bidding</th>\n",
       "      <th>foreclosure</th>\n",
       "      <th>upcoming</th>\n",
       "      <th>price</th>\n",
       "      <th>price_per_area</th>\n",
       "      <th>has_price_change</th>\n",
       "      <th>rooms</th>\n",
       "      <th>fee</th>\n",
       "      <th>age_string</th>\n",
       "      <th>age</th>\n",
       "      <th>deactivated_before_open_house</th>\n",
       "      <th>land_area</th>\n",
       "      <th>small_image_url</th>\n",
       "      <th>medium_image_url</th>\n",
       "      <th>url</th>\n",
       "      <th>labels</th>\n",
       "      <th>state_labels</th>\n",
       "      <th>visible_project_units</th>\n",
       "      <th>show_visible_project_units</th>\n",
       "      <th>user_saved</th>\n",
       "      <th>save_button_label</th>\n",
       "      <th>broker_logo_url</th>\n",
       "      <th>broker_agency_name</th>\n",
       "      <th>locations_string</th>\n",
       "      <th>should_display_showings</th>\n",
       "      <th>should_highlight_showings</th>\n",
       "      <th>living_space.table</th>\n",
       "      <th>trackingData.listingId</th>\n",
       "      <th>trackingData.listingType</th>\n",
       "      <th>trackingData.listingPackageType</th>\n",
       "      <th>trackingData.listingState</th>\n",
       "      <th>trackingData.listingStatus</th>\n",
       "      <th>broker_name</th>\n",
       "      <th>broker_phone</th>\n",
       "      <th>broker_email</th>\n",
       "      <th>price_change</th>\n",
       "      <th>area</th>\n",
       "      <th>date</th>\n",
       "    </tr>\n",
       "  </thead>\n",
       "  <tbody>\n",
       "    <tr>\n",
       "      <th>299575</th>\n",
       "      <td>19352495</td>\n",
       "      <td>[59.3617439, 17.9960842]</td>\n",
       "      <td>Parkvägen 2</td>\n",
       "      <td>Solna kommun</td>\n",
       "      <td>Bostadsrättslägenhet</td>\n",
       "      <td>bostadsratt</td>\n",
       "      <td>False</td>\n",
       "      <td>False</td>\n",
       "      <td>False</td>\n",
       "      <td>False</td>\n",
       "      <td>False</td>\n",
       "      <td>5 995 000 kr</td>\n",
       "      <td>77 857 kr/m²</td>\n",
       "      <td>False</td>\n",
       "      <td>3 rum</td>\n",
       "      <td>4 415 kr/mån</td>\n",
       "      <td>&lt;span&gt;9&lt;/span&gt; dagar</td>\n",
       "      <td>9</td>\n",
       "      <td>False</td>\n",
       "      <td>None</td>\n",
       "      <td>https://bilder.hemnet.se/images/itemgallery_S/...</td>\n",
       "      <td>https://bilder.hemnet.se/images/itemgallery_M/...</td>\n",
       "      <td>https://www.hemnet.se/bostad/lagenhet-3rum-ras...</td>\n",
       "      <td>[{'category': 'product', 'identifier': 'plus',...</td>\n",
       "      <td>[]</td>\n",
       "      <td>0</td>\n",
       "      <td>False</td>\n",
       "      <td>False</td>\n",
       "      <td>Spara</td>\n",
       "      <td>https://bilder.hemnet.se/images/broker_logo_2/...</td>\n",
       "      <td>Bronze Fastighetsförmedling AB</td>\n",
       "      <td>Råsunda, Solna kommun</td>\n",
       "      <td>False</td>\n",
       "      <td>False</td>\n",
       "      <td>{'living_area': '77 m²', 'supplemental_area': ...</td>\n",
       "      <td>19352495</td>\n",
       "      <td>common_listing</td>\n",
       "      <td>plus</td>\n",
       "      <td>active</td>\n",
       "      <td>for_sale</td>\n",
       "      <td>None</td>\n",
       "      <td>None</td>\n",
       "      <td>None</td>\n",
       "      <td>NaN</td>\n",
       "      <td>solna</td>\n",
       "      <td>20221128</td>\n",
       "    </tr>\n",
       "    <tr>\n",
       "      <th>309617</th>\n",
       "      <td>19366117</td>\n",
       "      <td>[59.38198, 17.98523]</td>\n",
       "      <td>Kaprifolen, Järvastaden, lgh 7-1303</td>\n",
       "      <td>Solna kommun</td>\n",
       "      <td>Bostadsrättslägenhet</td>\n",
       "      <td>bostadsratt</td>\n",
       "      <td>False</td>\n",
       "      <td>True</td>\n",
       "      <td>False</td>\n",
       "      <td>False</td>\n",
       "      <td>False</td>\n",
       "      <td>7 100 000 kr</td>\n",
       "      <td>58 197 kr/m²</td>\n",
       "      <td>False</td>\n",
       "      <td>5 rum</td>\n",
       "      <td>7 088 kr/mån</td>\n",
       "      <td>&lt;span&gt;2&lt;/span&gt; dagar</td>\n",
       "      <td>2</td>\n",
       "      <td>False</td>\n",
       "      <td>None</td>\n",
       "      <td>https://bilder.hemnet.se/images/itemgallery_S/...</td>\n",
       "      <td>https://bilder.hemnet.se/images/itemgallery_M/...</td>\n",
       "      <td>https://www.hemnet.se/bostad/lagenhet-5rum-jar...</td>\n",
       "      <td>[{'category': 'type', 'identifier': 'new_const...</td>\n",
       "      <td>[]</td>\n",
       "      <td>0</td>\n",
       "      <td>False</td>\n",
       "      <td>False</td>\n",
       "      <td>Spara</td>\n",
       "      <td>https://bilder.hemnet.se/images/broker_logo_2/...</td>\n",
       "      <td>Skanska Sverige AB</td>\n",
       "      <td>Järvastaden, Solna kommun</td>\n",
       "      <td>False</td>\n",
       "      <td>False</td>\n",
       "      <td>{'living_area': '122 m²', 'supplemental_area':...</td>\n",
       "      <td>19366117</td>\n",
       "      <td>project_unit</td>\n",
       "      <td>not_selected</td>\n",
       "      <td>active</td>\n",
       "      <td>for_sale</td>\n",
       "      <td>None</td>\n",
       "      <td>None</td>\n",
       "      <td>None</td>\n",
       "      <td>NaN</td>\n",
       "      <td>solna</td>\n",
       "      <td>20221126</td>\n",
       "    </tr>\n",
       "    <tr>\n",
       "      <th>413519</th>\n",
       "      <td>19507435</td>\n",
       "      <td>[59.347622721017636, 18.097477033193904]</td>\n",
       "      <td>Furusundsgatan 9,6tr</td>\n",
       "      <td>Stockholms kommun</td>\n",
       "      <td>Bostadsrättslägenhet</td>\n",
       "      <td>bostadsratt</td>\n",
       "      <td>False</td>\n",
       "      <td>False</td>\n",
       "      <td>True</td>\n",
       "      <td>False</td>\n",
       "      <td>False</td>\n",
       "      <td>4 300 000 kr</td>\n",
       "      <td>100 000 kr/m²</td>\n",
       "      <td>False</td>\n",
       "      <td>2 rum</td>\n",
       "      <td>2 200 kr/mån</td>\n",
       "      <td>&lt;span&gt;8&lt;/span&gt; dagar</td>\n",
       "      <td>8</td>\n",
       "      <td>False</td>\n",
       "      <td>None</td>\n",
       "      <td>https://bilder.hemnet.se/images/itemgallery_S/...</td>\n",
       "      <td>https://bilder.hemnet.se/images/itemgallery_M/...</td>\n",
       "      <td>https://www.hemnet.se/bostad/lagenhet-2rum-gar...</td>\n",
       "      <td>[{'category': 'product', 'identifier': 'plus',...</td>\n",
       "      <td>[{'category': 'state', 'identifier': 'ongoing_...</td>\n",
       "      <td>0</td>\n",
       "      <td>False</td>\n",
       "      <td>False</td>\n",
       "      <td>Spara</td>\n",
       "      <td>https://bilder.hemnet.se/images/broker_logo_1/...</td>\n",
       "      <td>Oscars Fastighetsmäkleri</td>\n",
       "      <td>Gärdet, Stockholms kommun</td>\n",
       "      <td>False</td>\n",
       "      <td>True</td>\n",
       "      <td>{'living_area': '43 m²', 'supplemental_area': ...</td>\n",
       "      <td>19507435</td>\n",
       "      <td>common_listing</td>\n",
       "      <td>plus</td>\n",
       "      <td>active</td>\n",
       "      <td>for_sale</td>\n",
       "      <td>None</td>\n",
       "      <td>None</td>\n",
       "      <td>None</td>\n",
       "      <td>NaN</td>\n",
       "      <td>gardet</td>\n",
       "      <td>20230121</td>\n",
       "    </tr>\n",
       "    <tr>\n",
       "      <th>346855</th>\n",
       "      <td>19419156</td>\n",
       "      <td>[59.11351, 17.5682125]</td>\n",
       "      <td>Rudsjövägen 21</td>\n",
       "      <td>Södertälje kommun</td>\n",
       "      <td>Bostadsrättslägenhet</td>\n",
       "      <td>bostadsratt</td>\n",
       "      <td>False</td>\n",
       "      <td>False</td>\n",
       "      <td>False</td>\n",
       "      <td>False</td>\n",
       "      <td>False</td>\n",
       "      <td>1 795 000 kr</td>\n",
       "      <td>32 636 kr/m²</td>\n",
       "      <td>False</td>\n",
       "      <td>2 rum</td>\n",
       "      <td>2 844 kr/mån</td>\n",
       "      <td>&lt;span&gt;5&lt;/span&gt; dagar</td>\n",
       "      <td>5</td>\n",
       "      <td>False</td>\n",
       "      <td>None</td>\n",
       "      <td>https://bilder.hemnet.se/images/itemgallery_S/...</td>\n",
       "      <td>https://bilder.hemnet.se/images/itemgallery_M/...</td>\n",
       "      <td>https://www.hemnet.se/bostad/lagenhet-2rum-kal...</td>\n",
       "      <td>[{'category': 'product', 'identifier': 'plus',...</td>\n",
       "      <td>[{'category': 'state', 'identifier': 'highligh...</td>\n",
       "      <td>0</td>\n",
       "      <td>False</td>\n",
       "      <td>False</td>\n",
       "      <td>Spara</td>\n",
       "      <td>https://bilder.hemnet.se/images/broker_logo_2/...</td>\n",
       "      <td>Erik Olsson Fastighetsförmedling</td>\n",
       "      <td>Kallfors, Södertälje kommun</td>\n",
       "      <td>False</td>\n",
       "      <td>True</td>\n",
       "      <td>{'living_area': '55 m²', 'supplemental_area': ...</td>\n",
       "      <td>19419156</td>\n",
       "      <td>common_listing</td>\n",
       "      <td>plus</td>\n",
       "      <td>active</td>\n",
       "      <td>for_sale</td>\n",
       "      <td>None</td>\n",
       "      <td>None</td>\n",
       "      <td>None</td>\n",
       "      <td>NaN</td>\n",
       "      <td>sodertalje</td>\n",
       "      <td>20221214</td>\n",
       "    </tr>\n",
       "    <tr>\n",
       "      <th>75815</th>\n",
       "      <td>18746417</td>\n",
       "      <td>[59.31074542101156, 18.065066079414283]</td>\n",
       "      <td>Tideliusgatan 27 4tr.</td>\n",
       "      <td>Stockholms kommun</td>\n",
       "      <td>Bostadsrättslägenhet</td>\n",
       "      <td>bostadsratt</td>\n",
       "      <td>False</td>\n",
       "      <td>False</td>\n",
       "      <td>False</td>\n",
       "      <td>False</td>\n",
       "      <td>False</td>\n",
       "      <td>9 995 000 kr</td>\n",
       "      <td>103 041 kr/m²</td>\n",
       "      <td>False</td>\n",
       "      <td>4 rum</td>\n",
       "      <td>2 591 kr/mån</td>\n",
       "      <td>&lt;span&gt;229&lt;/span&gt; dagar</td>\n",
       "      <td>229</td>\n",
       "      <td>False</td>\n",
       "      <td>None</td>\n",
       "      <td>https://bilder.hemnet.se/images/itemgallery_S/...</td>\n",
       "      <td>https://bilder.hemnet.se/images/itemgallery_M/...</td>\n",
       "      <td>https://www.hemnet.se/bostad/lagenhet-4rum-sod...</td>\n",
       "      <td>[{'category': 'product', 'identifier': 'plus',...</td>\n",
       "      <td>[{'category': 'state', 'identifier': 'highligh...</td>\n",
       "      <td>0</td>\n",
       "      <td>False</td>\n",
       "      <td>False</td>\n",
       "      <td>Spara</td>\n",
       "      <td>https://bilder.hemnet.se/images/broker_logo_2/...</td>\n",
       "      <td>Fastighetsmäklarna</td>\n",
       "      <td>Södermalm, Stockholms kommun</td>\n",
       "      <td>False</td>\n",
       "      <td>True</td>\n",
       "      <td>{'living_area': '97 m²', 'supplemental_area': ...</td>\n",
       "      <td>18746417</td>\n",
       "      <td>common_listing</td>\n",
       "      <td>plus</td>\n",
       "      <td>active</td>\n",
       "      <td>for_sale</td>\n",
       "      <td>None</td>\n",
       "      <td>None</td>\n",
       "      <td>None</td>\n",
       "      <td>NaN</td>\n",
       "      <td>sodermalm</td>\n",
       "      <td>20230121</td>\n",
       "    </tr>\n",
       "  </tbody>\n",
       "</table>\n",
       "</div>"
      ],
      "text/plain": [
       "              id                                coordinate  \\\n",
       "299575  19352495                  [59.3617439, 17.9960842]   \n",
       "309617  19366117                      [59.38198, 17.98523]   \n",
       "413519  19507435  [59.347622721017636, 18.097477033193904]   \n",
       "346855  19419156                    [59.11351, 17.5682125]   \n",
       "75815   18746417   [59.31074542101156, 18.065066079414283]   \n",
       "\n",
       "                                    address      location_name  \\\n",
       "299575                          Parkvägen 2       Solna kommun   \n",
       "309617  Kaprifolen, Järvastaden, lgh 7-1303       Solna kommun   \n",
       "413519                 Furusundsgatan 9,6tr  Stockholms kommun   \n",
       "346855                       Rudsjövägen 21  Södertälje kommun   \n",
       "75815                 Tideliusgatan 27 4tr.  Stockholms kommun   \n",
       "\n",
       "                 typeSummary     iconName  project  new_construction  \\\n",
       "299575  Bostadsrättslägenhet  bostadsratt    False             False   \n",
       "309617  Bostadsrättslägenhet  bostadsratt    False              True   \n",
       "413519  Bostadsrättslägenhet  bostadsratt    False             False   \n",
       "346855  Bostadsrättslägenhet  bostadsratt    False             False   \n",
       "75815   Bostadsrättslägenhet  bostadsratt    False             False   \n",
       "\n",
       "        ongoing_bidding  foreclosure  upcoming         price price_per_area  \\\n",
       "299575            False        False     False  5 995 000 kr   77 857 kr/m²   \n",
       "309617            False        False     False  7 100 000 kr   58 197 kr/m²   \n",
       "413519             True        False     False  4 300 000 kr  100 000 kr/m²   \n",
       "346855            False        False     False  1 795 000 kr   32 636 kr/m²   \n",
       "75815             False        False     False  9 995 000 kr  103 041 kr/m²   \n",
       "\n",
       "        has_price_change  rooms           fee              age_string  age  \\\n",
       "299575             False  3 rum  4 415 kr/mån    <span>9</span> dagar    9   \n",
       "309617             False  5 rum  7 088 kr/mån    <span>2</span> dagar    2   \n",
       "413519             False  2 rum  2 200 kr/mån    <span>8</span> dagar    8   \n",
       "346855             False  2 rum  2 844 kr/mån    <span>5</span> dagar    5   \n",
       "75815              False  4 rum  2 591 kr/mån  <span>229</span> dagar  229   \n",
       "\n",
       "        deactivated_before_open_house land_area  \\\n",
       "299575                          False      None   \n",
       "309617                          False      None   \n",
       "413519                          False      None   \n",
       "346855                          False      None   \n",
       "75815                           False      None   \n",
       "\n",
       "                                          small_image_url  \\\n",
       "299575  https://bilder.hemnet.se/images/itemgallery_S/...   \n",
       "309617  https://bilder.hemnet.se/images/itemgallery_S/...   \n",
       "413519  https://bilder.hemnet.se/images/itemgallery_S/...   \n",
       "346855  https://bilder.hemnet.se/images/itemgallery_S/...   \n",
       "75815   https://bilder.hemnet.se/images/itemgallery_S/...   \n",
       "\n",
       "                                         medium_image_url  \\\n",
       "299575  https://bilder.hemnet.se/images/itemgallery_M/...   \n",
       "309617  https://bilder.hemnet.se/images/itemgallery_M/...   \n",
       "413519  https://bilder.hemnet.se/images/itemgallery_M/...   \n",
       "346855  https://bilder.hemnet.se/images/itemgallery_M/...   \n",
       "75815   https://bilder.hemnet.se/images/itemgallery_M/...   \n",
       "\n",
       "                                                      url  \\\n",
       "299575  https://www.hemnet.se/bostad/lagenhet-3rum-ras...   \n",
       "309617  https://www.hemnet.se/bostad/lagenhet-5rum-jar...   \n",
       "413519  https://www.hemnet.se/bostad/lagenhet-2rum-gar...   \n",
       "346855  https://www.hemnet.se/bostad/lagenhet-2rum-kal...   \n",
       "75815   https://www.hemnet.se/bostad/lagenhet-4rum-sod...   \n",
       "\n",
       "                                                   labels  \\\n",
       "299575  [{'category': 'product', 'identifier': 'plus',...   \n",
       "309617  [{'category': 'type', 'identifier': 'new_const...   \n",
       "413519  [{'category': 'product', 'identifier': 'plus',...   \n",
       "346855  [{'category': 'product', 'identifier': 'plus',...   \n",
       "75815   [{'category': 'product', 'identifier': 'plus',...   \n",
       "\n",
       "                                             state_labels  \\\n",
       "299575                                                 []   \n",
       "309617                                                 []   \n",
       "413519  [{'category': 'state', 'identifier': 'ongoing_...   \n",
       "346855  [{'category': 'state', 'identifier': 'highligh...   \n",
       "75815   [{'category': 'state', 'identifier': 'highligh...   \n",
       "\n",
       "        visible_project_units show_visible_project_units  user_saved  \\\n",
       "299575                      0                      False       False   \n",
       "309617                      0                      False       False   \n",
       "413519                      0                      False       False   \n",
       "346855                      0                      False       False   \n",
       "75815                       0                      False       False   \n",
       "\n",
       "       save_button_label                                    broker_logo_url  \\\n",
       "299575             Spara  https://bilder.hemnet.se/images/broker_logo_2/...   \n",
       "309617             Spara  https://bilder.hemnet.se/images/broker_logo_2/...   \n",
       "413519             Spara  https://bilder.hemnet.se/images/broker_logo_1/...   \n",
       "346855             Spara  https://bilder.hemnet.se/images/broker_logo_2/...   \n",
       "75815              Spara  https://bilder.hemnet.se/images/broker_logo_2/...   \n",
       "\n",
       "                      broker_agency_name              locations_string  \\\n",
       "299575    Bronze Fastighetsförmedling AB         Råsunda, Solna kommun   \n",
       "309617                Skanska Sverige AB     Järvastaden, Solna kommun   \n",
       "413519          Oscars Fastighetsmäkleri     Gärdet, Stockholms kommun   \n",
       "346855  Erik Olsson Fastighetsförmedling   Kallfors, Södertälje kommun   \n",
       "75815                 Fastighetsmäklarna  Södermalm, Stockholms kommun   \n",
       "\n",
       "        should_display_showings  should_highlight_showings  \\\n",
       "299575                    False                      False   \n",
       "309617                    False                      False   \n",
       "413519                    False                       True   \n",
       "346855                    False                       True   \n",
       "75815                     False                       True   \n",
       "\n",
       "                                       living_space.table  \\\n",
       "299575  {'living_area': '77 m²', 'supplemental_area': ...   \n",
       "309617  {'living_area': '122 m²', 'supplemental_area':...   \n",
       "413519  {'living_area': '43 m²', 'supplemental_area': ...   \n",
       "346855  {'living_area': '55 m²', 'supplemental_area': ...   \n",
       "75815   {'living_area': '97 m²', 'supplemental_area': ...   \n",
       "\n",
       "       trackingData.listingId trackingData.listingType  \\\n",
       "299575               19352495           common_listing   \n",
       "309617               19366117             project_unit   \n",
       "413519               19507435           common_listing   \n",
       "346855               19419156           common_listing   \n",
       "75815                18746417           common_listing   \n",
       "\n",
       "       trackingData.listingPackageType trackingData.listingState  \\\n",
       "299575                            plus                    active   \n",
       "309617                    not_selected                    active   \n",
       "413519                            plus                    active   \n",
       "346855                            plus                    active   \n",
       "75815                             plus                    active   \n",
       "\n",
       "       trackingData.listingStatus broker_name broker_phone broker_email  \\\n",
       "299575                   for_sale        None         None         None   \n",
       "309617                   for_sale        None         None         None   \n",
       "413519                   for_sale        None         None         None   \n",
       "346855                   for_sale        None         None         None   \n",
       "75815                    for_sale        None         None         None   \n",
       "\n",
       "        price_change        area      date  \n",
       "299575           NaN       solna  20221128  \n",
       "309617           NaN       solna  20221126  \n",
       "413519           NaN      gardet  20230121  \n",
       "346855           NaN  sodertalje  20221214  \n",
       "75815            NaN   sodermalm  20230121  "
      ]
     },
     "execution_count": 18,
     "metadata": {},
     "output_type": "execute_result"
    }
   ],
   "source": [
    "all_df_files_concat.sort_values(by=[\"id\", \"date\"], ascending=[True, True], inplace=True)\n",
    "all_df_files_concat.reset_index(inplace=True)\n",
    "all_df_files_concat.drop(columns=\"index\", inplace=True)\n",
    "all_df_files_concat.sample(5)"
   ]
  },
  {
   "cell_type": "code",
   "execution_count": 19,
   "id": "5ffcba1a",
   "metadata": {},
   "outputs": [
    {
     "data": {
      "text/plain": [
       "(14952, 46)"
      ]
     },
     "execution_count": 19,
     "metadata": {},
     "output_type": "execute_result"
    }
   ],
   "source": [
    "all_df_files_concat.drop_duplicates(subset=\"id\", keep=\"first\", ignore_index=True, inplace=True)\n",
    "all_df_files_concat.shape"
   ]
  },
  {
   "cell_type": "code",
   "execution_count": 28,
   "id": "e1a36bca",
   "metadata": {},
   "outputs": [
    {
     "data": {
      "text/html": [
       "<div>\n",
       "<style scoped>\n",
       "    .dataframe tbody tr th:only-of-type {\n",
       "        vertical-align: middle;\n",
       "    }\n",
       "\n",
       "    .dataframe tbody tr th {\n",
       "        vertical-align: top;\n",
       "    }\n",
       "\n",
       "    .dataframe thead th {\n",
       "        text-align: right;\n",
       "    }\n",
       "</style>\n",
       "<table border=\"1\" class=\"dataframe\">\n",
       "  <thead>\n",
       "    <tr style=\"text-align: right;\">\n",
       "      <th></th>\n",
       "      <th>index</th>\n",
       "      <th>date</th>\n",
       "    </tr>\n",
       "  </thead>\n",
       "  <tbody>\n",
       "    <tr>\n",
       "      <th>1</th>\n",
       "      <td>20221109</td>\n",
       "      <td>1434</td>\n",
       "    </tr>\n",
       "    <tr>\n",
       "      <th>82</th>\n",
       "      <td>20221110</td>\n",
       "      <td>15</td>\n",
       "    </tr>\n",
       "    <tr>\n",
       "      <th>12</th>\n",
       "      <td>20221111</td>\n",
       "      <td>148</td>\n",
       "    </tr>\n",
       "    <tr>\n",
       "      <th>52</th>\n",
       "      <td>20221112</td>\n",
       "      <td>51</td>\n",
       "    </tr>\n",
       "    <tr>\n",
       "      <th>88</th>\n",
       "      <td>20221113</td>\n",
       "      <td>11</td>\n",
       "    </tr>\n",
       "    <tr>\n",
       "      <th>...</th>\n",
       "      <td>...</td>\n",
       "      <td>...</td>\n",
       "    </tr>\n",
       "    <tr>\n",
       "      <th>35</th>\n",
       "      <td>20230207</td>\n",
       "      <td>71</td>\n",
       "    </tr>\n",
       "    <tr>\n",
       "      <th>54</th>\n",
       "      <td>20230208</td>\n",
       "      <td>51</td>\n",
       "    </tr>\n",
       "    <tr>\n",
       "      <th>28</th>\n",
       "      <td>20230209</td>\n",
       "      <td>76</td>\n",
       "    </tr>\n",
       "    <tr>\n",
       "      <th>14</th>\n",
       "      <td>20230210</td>\n",
       "      <td>141</td>\n",
       "    </tr>\n",
       "    <tr>\n",
       "      <th>6</th>\n",
       "      <td>20230211</td>\n",
       "      <td>430</td>\n",
       "    </tr>\n",
       "  </tbody>\n",
       "</table>\n",
       "<p>94 rows × 2 columns</p>\n",
       "</div>"
      ],
      "text/plain": [
       "       index  date\n",
       "1   20221109  1434\n",
       "82  20221110    15\n",
       "12  20221111   148\n",
       "52  20221112    51\n",
       "88  20221113    11\n",
       "..       ...   ...\n",
       "35  20230207    71\n",
       "54  20230208    51\n",
       "28  20230209    76\n",
       "14  20230210   141\n",
       "6   20230211   430\n",
       "\n",
       "[94 rows x 2 columns]"
      ]
     },
     "execution_count": 28,
     "metadata": {},
     "output_type": "execute_result"
    }
   ],
   "source": [
    "all_df_files_concat[\"date\"].value_counts().reset_index().sort_values(\"index\")"
   ]
  },
  {
   "cell_type": "code",
   "execution_count": null,
   "id": "cab90914",
   "metadata": {},
   "outputs": [],
   "source": [
    "pd.to_datetime()"
   ]
  },
  {
   "cell_type": "code",
   "execution_count": null,
   "id": "5c7dcdd0",
   "metadata": {},
   "outputs": [],
   "source": []
  },
  {
   "cell_type": "code",
   "execution_count": null,
   "id": "255e9d6b",
   "metadata": {},
   "outputs": [],
   "source": []
  },
  {
   "cell_type": "code",
   "execution_count": null,
   "id": "9dd969fa",
   "metadata": {},
   "outputs": [],
   "source": []
  },
  {
   "cell_type": "code",
   "execution_count": null,
   "id": "21169d5a",
   "metadata": {},
   "outputs": [],
   "source": []
  },
  {
   "cell_type": "code",
   "execution_count": null,
   "id": "3b5ffc93",
   "metadata": {},
   "outputs": [],
   "source": [
    "gardet = pd.read_parquet(\"../data/areas_of_interest/2022/12/18/gardet.parquet.gzip\")\n",
    "gardet.shape"
   ]
  },
  {
   "cell_type": "code",
   "execution_count": null,
   "id": "d5ea0383",
   "metadata": {},
   "outputs": [],
   "source": [
    "gardet.sample(5)"
   ]
  },
  {
   "cell_type": "code",
   "execution_count": null,
   "id": "e06b4d34",
   "metadata": {},
   "outputs": [],
   "source": [
    "df.info(show_counts=True)"
   ]
  },
  {
   "cell_type": "code",
   "execution_count": null,
   "id": "bacf693f",
   "metadata": {},
   "outputs": [],
   "source": [
    "gardet[\"id\"].nunique()"
   ]
  },
  {
   "cell_type": "code",
   "execution_count": null,
   "id": "3f783557",
   "metadata": {},
   "outputs": [],
   "source": [
    "gardet[\"location_name\"].nunique()"
   ]
  },
  {
   "cell_type": "code",
   "execution_count": null,
   "id": "61a63ebc",
   "metadata": {},
   "outputs": [],
   "source": []
  },
  {
   "cell_type": "code",
   "execution_count": null,
   "id": "cac08012",
   "metadata": {},
   "outputs": [],
   "source": [
    "price_change[\"typeSummary\"].nunique()"
   ]
  },
  {
   "cell_type": "code",
   "execution_count": null,
   "id": "925a23d9",
   "metadata": {},
   "outputs": [],
   "source": [
    "df[\"typeSummary\"].value_counts()"
   ]
  },
  {
   "cell_type": "code",
   "execution_count": null,
   "id": "97debc29",
   "metadata": {},
   "outputs": [],
   "source": [
    "df[\"iconName\"].nunique()"
   ]
  },
  {
   "cell_type": "code",
   "execution_count": null,
   "id": "1e9e905b",
   "metadata": {},
   "outputs": [],
   "source": [
    "df[\"iconName\"].value_counts()"
   ]
  },
  {
   "cell_type": "code",
   "execution_count": null,
   "id": "a6c857ee",
   "metadata": {},
   "outputs": [],
   "source": [
    "df[\"ongoing_bidding\"]"
   ]
  },
  {
   "cell_type": "code",
   "execution_count": null,
   "id": "4c496505",
   "metadata": {},
   "outputs": [],
   "source": [
    "gardet[\"has_price_change\"].value_counts()"
   ]
  },
  {
   "cell_type": "code",
   "execution_count": null,
   "id": "6f142fbf",
   "metadata": {},
   "outputs": [],
   "source": [
    "df[df[\"id\"] == 19102395]"
   ]
  },
  {
   "cell_type": "code",
   "execution_count": null,
   "id": "98bffaad",
   "metadata": {},
   "outputs": [],
   "source": [
    "df[df[\"id\"] == 19102395][\"url\"]"
   ]
  },
  {
   "cell_type": "code",
   "execution_count": null,
   "id": "1cc0a056",
   "metadata": {},
   "outputs": [],
   "source": [
    "df[df[\"id\"] == 19193656]"
   ]
  },
  {
   "cell_type": "code",
   "execution_count": null,
   "id": "824f1c50",
   "metadata": {},
   "outputs": [],
   "source": [
    "df[\"price_change\"].min()"
   ]
  },
  {
   "cell_type": "code",
   "execution_count": null,
   "id": "7e687815",
   "metadata": {},
   "outputs": [],
   "source": [
    "f\"jag skulle vilja skicka {100:5} kronor till dig\""
   ]
  },
  {
   "cell_type": "code",
   "execution_count": null,
   "id": "f083ade8",
   "metadata": {},
   "outputs": [],
   "source": [
    "print(f\"roshan har:{100:<20} kronor\")\n",
    "print(f\"roza har:{200:<20} kronor\")\n",
    "print(f\"azad har:{500:<20} kronor\")\n",
    "print(f\"martin norin har:{900:<20} kronor\")"
   ]
  },
  {
   "cell_type": "code",
   "execution_count": null,
   "id": "736d3f5b",
   "metadata": {},
   "outputs": [],
   "source": [
    "sub_str='s'\n",
    "for i in range(1,5):\n",
    "    s = sub_str*i\n",
    "    print(f'Roshan har {\"\":<10} mycket pengar')"
   ]
  },
  {
   "cell_type": "code",
   "execution_count": null,
   "id": "ad354a47",
   "metadata": {},
   "outputs": [],
   "source": []
  },
  {
   "cell_type": "code",
   "execution_count": null,
   "id": "c3d64911",
   "metadata": {},
   "outputs": [],
   "source": []
  },
  {
   "cell_type": "code",
   "execution_count": null,
   "id": "672362ce",
   "metadata": {},
   "outputs": [],
   "source": [
    "df = pd.read_parquet(\"../data/areas_of_interest/20221218/gardet.parquet.gzip\")\n",
    "df.shape"
   ]
  },
  {
   "cell_type": "code",
   "execution_count": null,
   "id": "28b7a574",
   "metadata": {},
   "outputs": [],
   "source": [
    "df2 = pd.read_parquet(\"../data/areas_of_interest/20221218/hjorthagen.parquet.gzip\")\n",
    "df2.shape"
   ]
  },
  {
   "cell_type": "code",
   "execution_count": null,
   "id": "194990e2",
   "metadata": {},
   "outputs": [],
   "source": [
    "df3 = pd.read_parquet(\"../data/areas_of_interest/20221218/kungsholmen.parquet.gzip\")\n",
    "df3.shape"
   ]
  },
  {
   "cell_type": "code",
   "execution_count": null,
   "id": "6b73c61b",
   "metadata": {},
   "outputs": [],
   "source": [
    "set(df3.columns).difference(set(df2.columns))"
   ]
  },
  {
   "cell_type": "code",
   "execution_count": null,
   "id": "22ef1c34",
   "metadata": {},
   "outputs": [],
   "source": []
  },
  {
   "cell_type": "code",
   "execution_count": null,
   "id": "b10d6c0c",
   "metadata": {},
   "outputs": [],
   "source": []
  },
  {
   "cell_type": "markdown",
   "id": "e42078e9",
   "metadata": {},
   "source": [
    "#### Land area in other areas than area of interest:"
   ]
  },
  {
   "cell_type": "code",
   "execution_count": null,
   "id": "ed4c711a",
   "metadata": {},
   "outputs": [],
   "source": [
    "stockholms_lan_files = glob.glob(\"../data/stockholms_lan/2023/02/05/\")\n",
    "stockholms_lan_files_list = []\n",
    "for file in stockholms_lan_files:\n",
    "    df = pd.read_parquet(file)\n",
    "    stockholms_lan_files_list.append(df)\n",
    "    \n",
    "stockholms_lan_files_concat = pd.concat(stockholms_lan_files_list)\n",
    "stockholms_lan_files_concat.shape"
   ]
  },
  {
   "cell_type": "code",
   "execution_count": null,
   "id": "8b2fe5e1",
   "metadata": {},
   "outputs": [],
   "source": [
    "stockholms_lan_files_concat.sample(5)"
   ]
  },
  {
   "cell_type": "code",
   "execution_count": null,
   "id": "35726be6",
   "metadata": {},
   "outputs": [],
   "source": [
    "stockholms_lan_files_concat.info(show_counts=True)"
   ]
  },
  {
   "cell_type": "code",
   "execution_count": null,
   "id": "4559b9fc",
   "metadata": {},
   "outputs": [],
   "source": [
    "stockholms_lan_files_concat.query(\"address.isna()\")"
   ]
  },
  {
   "cell_type": "code",
   "execution_count": null,
   "id": "ca980a1c",
   "metadata": {},
   "outputs": [],
   "source": [
    "stockholms_lan_files_concat.query(\"land_area.notna()\").sample(5)"
   ]
  },
  {
   "cell_type": "code",
   "execution_count": null,
   "id": "d2239f30",
   "metadata": {},
   "outputs": [],
   "source": [
    "stockholms_lan_files_concat.query(\"land_area.notna()\")[\"typeSummary\"].value_counts()"
   ]
  },
  {
   "cell_type": "code",
   "execution_count": null,
   "id": "868ffd78",
   "metadata": {},
   "outputs": [],
   "source": [
    "stockholms_lan_files_concat.query(\"land_area.isna()\")[\"typeSummary\"].value_counts()"
   ]
  },
  {
   "cell_type": "code",
   "execution_count": null,
   "id": "77acb33f",
   "metadata": {},
   "outputs": [],
   "source": []
  }
 ],
 "metadata": {
  "kernelspec": {
   "display_name": "Python 3 (ipykernel)",
   "language": "python",
   "name": "python3"
  },
  "language_info": {
   "codemirror_mode": {
    "name": "ipython",
    "version": 3
   },
   "file_extension": ".py",
   "mimetype": "text/x-python",
   "name": "python",
   "nbconvert_exporter": "python",
   "pygments_lexer": "ipython3",
   "version": "3.10.2"
  }
 },
 "nbformat": 4,
 "nbformat_minor": 5
}
