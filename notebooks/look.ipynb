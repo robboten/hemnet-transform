{
 "cells": [
  {
   "cell_type": "code",
   "execution_count": 25,
   "metadata": {},
   "outputs": [],
   "source": [
    "import pandas as pd\n",
    "import numpy as np"
   ]
  },
  {
   "cell_type": "code",
   "execution_count": 26,
   "metadata": {},
   "outputs": [],
   "source": [
    "pd.set_option('display.max_columns', 100)\n",
    "pd.set_option('display.max_rows', 100)"
   ]
  },
  {
   "cell_type": "code",
   "execution_count": 27,
   "metadata": {},
   "outputs": [],
   "source": [
    "pd.options.display.float_format = '{:.0f}'.format"
   ]
  },
  {
   "cell_type": "code",
   "execution_count": 28,
   "metadata": {},
   "outputs": [],
   "source": [
    "#util function to check for ints\n",
    "def check_int(value):\n",
    "    try:\n",
    "        int(value)\n",
    "        return np.NaN\n",
    "    except ValueError:\n",
    "        return value"
   ]
  },
  {
   "cell_type": "code",
   "execution_count": 29,
   "metadata": {},
   "outputs": [
    {
     "name": "stdout",
     "output_type": "stream",
     "text": [
      "<class 'pandas.core.frame.DataFrame'>\n",
      "Int64Index: 1252 entries, 19324990 to 16998076\n",
      "Data columns (total 35 columns):\n",
      " #   Column                         Non-Null Count  Dtype  \n",
      "---  ------                         --------------  -----  \n",
      " 0   coordinate                     1252 non-null   object \n",
      " 1   address                        1252 non-null   object \n",
      " 2   location_name                  1252 non-null   object \n",
      " 3   typeSummary                    1252 non-null   object \n",
      " 4   ongoing_bidding                1252 non-null   bool   \n",
      " 5   foreclosure                    1252 non-null   bool   \n",
      " 6   price                          1252 non-null   int32  \n",
      " 7   price_per_area                 1252 non-null   int32  \n",
      " 8   has_price_change               1252 non-null   bool   \n",
      " 9   rooms                          1249 non-null   object \n",
      " 10  fee                            1252 non-null   int32  \n",
      " 11  age                            1252 non-null   int64  \n",
      " 12  deactivated_before_open_house  1252 non-null   bool   \n",
      " 13  small_image_url                1252 non-null   object \n",
      " 14  medium_image_url               1251 non-null   object \n",
      " 15  url                            1252 non-null   object \n",
      " 16  state_labels                   1252 non-null   object \n",
      " 17  visible_project_units          1252 non-null   int64  \n",
      " 18  broker_agency_name             1252 non-null   object \n",
      " 19  locations_string               1252 non-null   object \n",
      " 20  should_highlight_showings      1252 non-null   bool   \n",
      " 21  listingId                      1252 non-null   object \n",
      " 22  listingType                    1252 non-null   object \n",
      " 23  listingPackageType             1252 non-null   object \n",
      " 24  listingState                   1252 non-null   object \n",
      " 25  listingStatus                  1252 non-null   object \n",
      " 26  price_change                   188 non-null    float64\n",
      " 27  area                           1252 non-null   object \n",
      " 28  date                           1252 non-null   object \n",
      " 29  balcony                        1252 non-null   bool   \n",
      " 30  elevator                       1252 non-null   bool   \n",
      " 31  patio                          1252 non-null   bool   \n",
      " 32  tenure_owned                   1252 non-null   bool   \n",
      " 33  living_area                    1248 non-null   float64\n",
      " 34  supplemental_area              48 non-null     object \n",
      "dtypes: bool(9), float64(2), int32(3), int64(2), object(19)\n",
      "memory usage: 260.4+ KB\n"
     ]
    }
   ],
   "source": [
    "df=pd.read_parquet(\"../data/2nd_transformed_data.parquet\")\n",
    "df.info()"
   ]
  },
  {
   "cell_type": "code",
   "execution_count": 30,
   "metadata": {},
   "outputs": [
    {
     "data": {
      "text/html": [
       "<div>\n",
       "<style scoped>\n",
       "    .dataframe tbody tr th:only-of-type {\n",
       "        vertical-align: middle;\n",
       "    }\n",
       "\n",
       "    .dataframe tbody tr th {\n",
       "        vertical-align: top;\n",
       "    }\n",
       "\n",
       "    .dataframe thead th {\n",
       "        text-align: right;\n",
       "    }\n",
       "</style>\n",
       "<table border=\"1\" class=\"dataframe\">\n",
       "  <thead>\n",
       "    <tr style=\"text-align: right;\">\n",
       "      <th></th>\n",
       "      <th>coordinate</th>\n",
       "      <th>address</th>\n",
       "      <th>location_name</th>\n",
       "      <th>typeSummary</th>\n",
       "      <th>ongoing_bidding</th>\n",
       "      <th>foreclosure</th>\n",
       "      <th>price</th>\n",
       "      <th>price_per_area</th>\n",
       "      <th>has_price_change</th>\n",
       "      <th>rooms</th>\n",
       "      <th>fee</th>\n",
       "      <th>age</th>\n",
       "      <th>deactivated_before_open_house</th>\n",
       "      <th>small_image_url</th>\n",
       "      <th>medium_image_url</th>\n",
       "      <th>url</th>\n",
       "      <th>state_labels</th>\n",
       "      <th>visible_project_units</th>\n",
       "      <th>broker_agency_name</th>\n",
       "      <th>locations_string</th>\n",
       "      <th>should_highlight_showings</th>\n",
       "      <th>listingId</th>\n",
       "      <th>listingType</th>\n",
       "      <th>listingPackageType</th>\n",
       "      <th>listingState</th>\n",
       "      <th>listingStatus</th>\n",
       "      <th>price_change</th>\n",
       "      <th>area</th>\n",
       "      <th>date</th>\n",
       "      <th>balcony</th>\n",
       "      <th>elevator</th>\n",
       "      <th>patio</th>\n",
       "      <th>tenure_owned</th>\n",
       "      <th>living_area</th>\n",
       "      <th>supplemental_area</th>\n",
       "    </tr>\n",
       "    <tr>\n",
       "      <th>id</th>\n",
       "      <th></th>\n",
       "      <th></th>\n",
       "      <th></th>\n",
       "      <th></th>\n",
       "      <th></th>\n",
       "      <th></th>\n",
       "      <th></th>\n",
       "      <th></th>\n",
       "      <th></th>\n",
       "      <th></th>\n",
       "      <th></th>\n",
       "      <th></th>\n",
       "      <th></th>\n",
       "      <th></th>\n",
       "      <th></th>\n",
       "      <th></th>\n",
       "      <th></th>\n",
       "      <th></th>\n",
       "      <th></th>\n",
       "      <th></th>\n",
       "      <th></th>\n",
       "      <th></th>\n",
       "      <th></th>\n",
       "      <th></th>\n",
       "      <th></th>\n",
       "      <th></th>\n",
       "      <th></th>\n",
       "      <th></th>\n",
       "      <th></th>\n",
       "      <th></th>\n",
       "      <th></th>\n",
       "      <th></th>\n",
       "      <th></th>\n",
       "      <th></th>\n",
       "      <th></th>\n",
       "    </tr>\n",
       "  </thead>\n",
       "  <tbody>\n",
       "    <tr>\n",
       "      <th>19053256</th>\n",
       "      <td>[59.3556390499, 17.9929448066]</td>\n",
       "      <td>Ankdammsgatan 30</td>\n",
       "      <td>Solna kommun</td>\n",
       "      <td>Bostadsrättslägenhet</td>\n",
       "      <td>False</td>\n",
       "      <td>False</td>\n",
       "      <td>3995000</td>\n",
       "      <td>3995000</td>\n",
       "      <td>False</td>\n",
       "      <td>3</td>\n",
       "      <td>3781</td>\n",
       "      <td>28</td>\n",
       "      <td>False</td>\n",
       "      <td>https://bilder.hemnet.se/images/itemgallery_S/...</td>\n",
       "      <td>https://bilder.hemnet.se/images/itemgallery_M/...</td>\n",
       "      <td>https://www.hemnet.se/bostad/lagenhet-3rum-sky...</td>\n",
       "      <td>[]</td>\n",
       "      <td>0</td>\n",
       "      <td>Fastighetsbyrån Solna</td>\n",
       "      <td>Skytteholm, Solna kommun</td>\n",
       "      <td>False</td>\n",
       "      <td>19053256</td>\n",
       "      <td>common_listing</td>\n",
       "      <td>basic</td>\n",
       "      <td>active</td>\n",
       "      <td>for_sale</td>\n",
       "      <td>NaN</td>\n",
       "      <td>solna</td>\n",
       "      <td>20221203</td>\n",
       "      <td>True</td>\n",
       "      <td>True</td>\n",
       "      <td>False</td>\n",
       "      <td>False</td>\n",
       "      <td>76</td>\n",
       "      <td>None</td>\n",
       "    </tr>\n",
       "    <tr>\n",
       "      <th>19038938</th>\n",
       "      <td>[59.3322501, 18.0073693]</td>\n",
       "      <td>Hjalmar Söderbergs väg 6, 2tr</td>\n",
       "      <td>Stockholms kommun</td>\n",
       "      <td>Bostadsrättslägenhet</td>\n",
       "      <td>False</td>\n",
       "      <td>False</td>\n",
       "      <td>5995000</td>\n",
       "      <td>5995000</td>\n",
       "      <td>True</td>\n",
       "      <td>3,5</td>\n",
       "      <td>4251</td>\n",
       "      <td>92</td>\n",
       "      <td>False</td>\n",
       "      <td>https://bilder.hemnet.se/images/itemgallery_S/...</td>\n",
       "      <td>https://bilder.hemnet.se/images/itemgallery_M/...</td>\n",
       "      <td>https://www.hemnet.se/bostad/lagenhet-3,5rum-k...</td>\n",
       "      <td>[]</td>\n",
       "      <td>0</td>\n",
       "      <td>SkandiaMäklarna Stockholm Kungsholmen</td>\n",
       "      <td>Kungsholmen - Kristineberg, Stockholms kommun</td>\n",
       "      <td>False</td>\n",
       "      <td>19038938</td>\n",
       "      <td>common_listing</td>\n",
       "      <td>basic</td>\n",
       "      <td>active</td>\n",
       "      <td>for_sale</td>\n",
       "      <td>-14</td>\n",
       "      <td>kungsholmen</td>\n",
       "      <td>20221203</td>\n",
       "      <td>True</td>\n",
       "      <td>True</td>\n",
       "      <td>False</td>\n",
       "      <td>False</td>\n",
       "      <td>82</td>\n",
       "      <td>None</td>\n",
       "    </tr>\n",
       "    <tr>\n",
       "      <th>19369155</th>\n",
       "      <td>[59.3264427, 18.021162]</td>\n",
       "      <td>Fyrverkarbacken 23, 10 tr.</td>\n",
       "      <td>Stockholms kommun</td>\n",
       "      <td>Bostadsrättslägenhet</td>\n",
       "      <td>False</td>\n",
       "      <td>False</td>\n",
       "      <td>2895000</td>\n",
       "      <td>2895000</td>\n",
       "      <td>False</td>\n",
       "      <td>2</td>\n",
       "      <td>2575</td>\n",
       "      <td>9</td>\n",
       "      <td>False</td>\n",
       "      <td>https://bilder.hemnet.se/images/itemgallery_S/...</td>\n",
       "      <td>https://bilder.hemnet.se/images/itemgallery_M/...</td>\n",
       "      <td>https://www.hemnet.se/bostad/lagenhet-2rum-kun...</td>\n",
       "      <td>[]</td>\n",
       "      <td>0</td>\n",
       "      <td>Notar</td>\n",
       "      <td>Kungsholmen - Marieberg, Stockholms kommun</td>\n",
       "      <td>False</td>\n",
       "      <td>19369155</td>\n",
       "      <td>common_listing</td>\n",
       "      <td>basic</td>\n",
       "      <td>active</td>\n",
       "      <td>for_sale</td>\n",
       "      <td>NaN</td>\n",
       "      <td>kungsholmen</td>\n",
       "      <td>20221203</td>\n",
       "      <td>False</td>\n",
       "      <td>True</td>\n",
       "      <td>False</td>\n",
       "      <td>False</td>\n",
       "      <td>43</td>\n",
       "      <td>None</td>\n",
       "    </tr>\n",
       "    <tr>\n",
       "      <th>19303978</th>\n",
       "      <td>[59.3483353, 18.0342159]</td>\n",
       "      <td>Anna Steckséns Gata 15, 4 tr</td>\n",
       "      <td>Stockholms kommun</td>\n",
       "      <td>Bostadsrättslägenhet</td>\n",
       "      <td>True</td>\n",
       "      <td>False</td>\n",
       "      <td>4950000</td>\n",
       "      <td>4950000</td>\n",
       "      <td>False</td>\n",
       "      <td>2</td>\n",
       "      <td>3622</td>\n",
       "      <td>29</td>\n",
       "      <td>False</td>\n",
       "      <td>https://bilder.hemnet.se/images/itemgallery_S/...</td>\n",
       "      <td>https://bilder.hemnet.se/images/itemgallery_M/...</td>\n",
       "      <td>https://www.hemnet.se/bostad/lagenhet-2rum-vas...</td>\n",
       "      <td>[{'category': 'state', 'identifier': 'ongoing_...</td>\n",
       "      <td>0</td>\n",
       "      <td>HusmanHagberg Vasastan</td>\n",
       "      <td>Vasastan Hagastaden, Stockholms kommun</td>\n",
       "      <td>True</td>\n",
       "      <td>19303978</td>\n",
       "      <td>common_listing</td>\n",
       "      <td>premium</td>\n",
       "      <td>active</td>\n",
       "      <td>for_sale</td>\n",
       "      <td>NaN</td>\n",
       "      <td>vasastan</td>\n",
       "      <td>20221203</td>\n",
       "      <td>True</td>\n",
       "      <td>True</td>\n",
       "      <td>False</td>\n",
       "      <td>False</td>\n",
       "      <td>45</td>\n",
       "      <td>None</td>\n",
       "    </tr>\n",
       "    <tr>\n",
       "      <th>19350728</th>\n",
       "      <td>[59.340991437838625, 18.081532369128457]</td>\n",
       "      <td>Östermalmsgatan 70</td>\n",
       "      <td>Stockholms kommun</td>\n",
       "      <td>Bostadsrättslägenhet</td>\n",
       "      <td>False</td>\n",
       "      <td>False</td>\n",
       "      <td>6000000</td>\n",
       "      <td>6000000</td>\n",
       "      <td>False</td>\n",
       "      <td>2</td>\n",
       "      <td>2209</td>\n",
       "      <td>15</td>\n",
       "      <td>False</td>\n",
       "      <td>https://bilder.hemnet.se/images/itemgallery_S/...</td>\n",
       "      <td>https://bilder.hemnet.se/images/itemgallery_M/...</td>\n",
       "      <td>https://www.hemnet.se/bostad/lagenhet-2rum-ovr...</td>\n",
       "      <td>[]</td>\n",
       "      <td>0</td>\n",
       "      <td>Lagerlings</td>\n",
       "      <td>Övre Östermalm, Stockholms kommun</td>\n",
       "      <td>False</td>\n",
       "      <td>19350728</td>\n",
       "      <td>common_listing</td>\n",
       "      <td>basic</td>\n",
       "      <td>active</td>\n",
       "      <td>for_sale</td>\n",
       "      <td>NaN</td>\n",
       "      <td>ostermalm</td>\n",
       "      <td>20221203</td>\n",
       "      <td>False</td>\n",
       "      <td>False</td>\n",
       "      <td>False</td>\n",
       "      <td>False</td>\n",
       "      <td>57</td>\n",
       "      <td>None</td>\n",
       "    </tr>\n",
       "  </tbody>\n",
       "</table>\n",
       "</div>"
      ],
      "text/plain": [
       "                                        coordinate  \\\n",
       "id                                                   \n",
       "19053256            [59.3556390499, 17.9929448066]   \n",
       "19038938                  [59.3322501, 18.0073693]   \n",
       "19369155                   [59.3264427, 18.021162]   \n",
       "19303978                  [59.3483353, 18.0342159]   \n",
       "19350728  [59.340991437838625, 18.081532369128457]   \n",
       "\n",
       "                                address      location_name  \\\n",
       "id                                                           \n",
       "19053256               Ankdammsgatan 30       Solna kommun   \n",
       "19038938  Hjalmar Söderbergs väg 6, 2tr  Stockholms kommun   \n",
       "19369155     Fyrverkarbacken 23, 10 tr.  Stockholms kommun   \n",
       "19303978   Anna Steckséns Gata 15, 4 tr  Stockholms kommun   \n",
       "19350728             Östermalmsgatan 70  Stockholms kommun   \n",
       "\n",
       "                   typeSummary  ongoing_bidding  foreclosure    price  \\\n",
       "id                                                                      \n",
       "19053256  Bostadsrättslägenhet            False        False  3995000   \n",
       "19038938  Bostadsrättslägenhet            False        False  5995000   \n",
       "19369155  Bostadsrättslägenhet            False        False  2895000   \n",
       "19303978  Bostadsrättslägenhet             True        False  4950000   \n",
       "19350728  Bostadsrättslägenhet            False        False  6000000   \n",
       "\n",
       "          price_per_area  has_price_change rooms   fee  age  \\\n",
       "id                                                            \n",
       "19053256         3995000             False     3  3781   28   \n",
       "19038938         5995000              True   3,5  4251   92   \n",
       "19369155         2895000             False     2  2575    9   \n",
       "19303978         4950000             False     2  3622   29   \n",
       "19350728         6000000             False     2  2209   15   \n",
       "\n",
       "          deactivated_before_open_house  \\\n",
       "id                                        \n",
       "19053256                          False   \n",
       "19038938                          False   \n",
       "19369155                          False   \n",
       "19303978                          False   \n",
       "19350728                          False   \n",
       "\n",
       "                                            small_image_url  \\\n",
       "id                                                            \n",
       "19053256  https://bilder.hemnet.se/images/itemgallery_S/...   \n",
       "19038938  https://bilder.hemnet.se/images/itemgallery_S/...   \n",
       "19369155  https://bilder.hemnet.se/images/itemgallery_S/...   \n",
       "19303978  https://bilder.hemnet.se/images/itemgallery_S/...   \n",
       "19350728  https://bilder.hemnet.se/images/itemgallery_S/...   \n",
       "\n",
       "                                           medium_image_url  \\\n",
       "id                                                            \n",
       "19053256  https://bilder.hemnet.se/images/itemgallery_M/...   \n",
       "19038938  https://bilder.hemnet.se/images/itemgallery_M/...   \n",
       "19369155  https://bilder.hemnet.se/images/itemgallery_M/...   \n",
       "19303978  https://bilder.hemnet.se/images/itemgallery_M/...   \n",
       "19350728  https://bilder.hemnet.se/images/itemgallery_M/...   \n",
       "\n",
       "                                                        url  \\\n",
       "id                                                            \n",
       "19053256  https://www.hemnet.se/bostad/lagenhet-3rum-sky...   \n",
       "19038938  https://www.hemnet.se/bostad/lagenhet-3,5rum-k...   \n",
       "19369155  https://www.hemnet.se/bostad/lagenhet-2rum-kun...   \n",
       "19303978  https://www.hemnet.se/bostad/lagenhet-2rum-vas...   \n",
       "19350728  https://www.hemnet.se/bostad/lagenhet-2rum-ovr...   \n",
       "\n",
       "                                               state_labels  \\\n",
       "id                                                            \n",
       "19053256                                                 []   \n",
       "19038938                                                 []   \n",
       "19369155                                                 []   \n",
       "19303978  [{'category': 'state', 'identifier': 'ongoing_...   \n",
       "19350728                                                 []   \n",
       "\n",
       "          visible_project_units                     broker_agency_name  \\\n",
       "id                                                                       \n",
       "19053256                      0                  Fastighetsbyrån Solna   \n",
       "19038938                      0  SkandiaMäklarna Stockholm Kungsholmen   \n",
       "19369155                      0                                  Notar   \n",
       "19303978                      0                 HusmanHagberg Vasastan   \n",
       "19350728                      0                             Lagerlings   \n",
       "\n",
       "                                       locations_string  \\\n",
       "id                                                        \n",
       "19053256                       Skytteholm, Solna kommun   \n",
       "19038938  Kungsholmen - Kristineberg, Stockholms kommun   \n",
       "19369155     Kungsholmen - Marieberg, Stockholms kommun   \n",
       "19303978         Vasastan Hagastaden, Stockholms kommun   \n",
       "19350728              Övre Östermalm, Stockholms kommun   \n",
       "\n",
       "          should_highlight_showings listingId     listingType  \\\n",
       "id                                                              \n",
       "19053256                      False  19053256  common_listing   \n",
       "19038938                      False  19038938  common_listing   \n",
       "19369155                      False  19369155  common_listing   \n",
       "19303978                       True  19303978  common_listing   \n",
       "19350728                      False  19350728  common_listing   \n",
       "\n",
       "         listingPackageType listingState listingStatus  price_change  \\\n",
       "id                                                                     \n",
       "19053256              basic       active      for_sale           NaN   \n",
       "19038938              basic       active      for_sale           -14   \n",
       "19369155              basic       active      for_sale           NaN   \n",
       "19303978            premium       active      for_sale           NaN   \n",
       "19350728              basic       active      for_sale           NaN   \n",
       "\n",
       "                 area      date  balcony  elevator  patio  tenure_owned  \\\n",
       "id                                                                        \n",
       "19053256        solna  20221203     True      True  False         False   \n",
       "19038938  kungsholmen  20221203     True      True  False         False   \n",
       "19369155  kungsholmen  20221203    False      True  False         False   \n",
       "19303978     vasastan  20221203     True      True  False         False   \n",
       "19350728    ostermalm  20221203    False     False  False         False   \n",
       "\n",
       "          living_area supplemental_area  \n",
       "id                                       \n",
       "19053256           76              None  \n",
       "19038938           82              None  \n",
       "19369155           43              None  \n",
       "19303978           45              None  \n",
       "19350728           57              None  "
      ]
     },
     "execution_count": 30,
     "metadata": {},
     "output_type": "execute_result"
    }
   ],
   "source": [
    "df.sample(5)"
   ]
  },
  {
   "cell_type": "code",
   "execution_count": 31,
   "metadata": {},
   "outputs": [
    {
     "data": {
      "text/plain": [
       "35     33\n",
       "34     28\n",
       "44     22\n",
       "55     22\n",
       "81     21\n",
       "       ..\n",
       "98      1\n",
       "36      1\n",
       "110     1\n",
       "502     1\n",
       "30      1\n",
       "Name: living_area, Length: 270, dtype: int64"
      ]
     },
     "execution_count": 31,
     "metadata": {},
     "output_type": "execute_result"
    }
   ],
   "source": [
    "df['living_area'].value_counts()"
   ]
  },
  {
   "cell_type": "code",
   "execution_count": 32,
   "metadata": {},
   "outputs": [
    {
     "data": {
      "text/plain": [
       "35     33\n",
       "34     28\n",
       "44     22\n",
       "55     22\n",
       "81     21\n",
       "       ..\n",
       "98      1\n",
       "36      1\n",
       "110     1\n",
       "502     1\n",
       "30      1\n",
       "Name: living_area, Length: 270, dtype: int64"
      ]
     },
     "execution_count": 32,
     "metadata": {},
     "output_type": "execute_result"
    }
   ],
   "source": [
    "df[\"living_area\"].value_counts(sort=True,normalize=False)"
   ]
  },
  {
   "cell_type": "code",
   "execution_count": 33,
   "metadata": {},
   "outputs": [
    {
     "data": {
      "text/plain": [
       "count   1248\n",
       "mean      67\n",
       "std       38\n",
       "min       15\n",
       "25%       42\n",
       "50%       60\n",
       "75%       83\n",
       "max      502\n",
       "Name: living_area, dtype: float64"
      ]
     },
     "execution_count": 33,
     "metadata": {},
     "output_type": "execute_result"
    }
   ],
   "source": [
    "df['living_area'].describe()"
   ]
  },
  {
   "cell_type": "code",
   "execution_count": 34,
   "metadata": {},
   "outputs": [
    {
     "data": {
      "text/html": [
       "<div>\n",
       "<style scoped>\n",
       "    .dataframe tbody tr th:only-of-type {\n",
       "        vertical-align: middle;\n",
       "    }\n",
       "\n",
       "    .dataframe tbody tr th {\n",
       "        vertical-align: top;\n",
       "    }\n",
       "\n",
       "    .dataframe thead th {\n",
       "        text-align: right;\n",
       "    }\n",
       "</style>\n",
       "<table border=\"1\" class=\"dataframe\">\n",
       "  <thead>\n",
       "    <tr style=\"text-align: right;\">\n",
       "      <th></th>\n",
       "      <th>coordinate</th>\n",
       "      <th>address</th>\n",
       "      <th>location_name</th>\n",
       "      <th>typeSummary</th>\n",
       "      <th>ongoing_bidding</th>\n",
       "      <th>foreclosure</th>\n",
       "      <th>price</th>\n",
       "      <th>price_per_area</th>\n",
       "      <th>has_price_change</th>\n",
       "      <th>rooms</th>\n",
       "      <th>fee</th>\n",
       "      <th>age</th>\n",
       "      <th>deactivated_before_open_house</th>\n",
       "      <th>small_image_url</th>\n",
       "      <th>medium_image_url</th>\n",
       "      <th>url</th>\n",
       "      <th>state_labels</th>\n",
       "      <th>visible_project_units</th>\n",
       "      <th>broker_agency_name</th>\n",
       "      <th>locations_string</th>\n",
       "      <th>should_highlight_showings</th>\n",
       "      <th>listingId</th>\n",
       "      <th>listingType</th>\n",
       "      <th>listingPackageType</th>\n",
       "      <th>listingState</th>\n",
       "      <th>listingStatus</th>\n",
       "      <th>price_change</th>\n",
       "      <th>area</th>\n",
       "      <th>date</th>\n",
       "      <th>balcony</th>\n",
       "      <th>elevator</th>\n",
       "      <th>patio</th>\n",
       "      <th>tenure_owned</th>\n",
       "      <th>living_area</th>\n",
       "      <th>supplemental_area</th>\n",
       "    </tr>\n",
       "    <tr>\n",
       "      <th>id</th>\n",
       "      <th></th>\n",
       "      <th></th>\n",
       "      <th></th>\n",
       "      <th></th>\n",
       "      <th></th>\n",
       "      <th></th>\n",
       "      <th></th>\n",
       "      <th></th>\n",
       "      <th></th>\n",
       "      <th></th>\n",
       "      <th></th>\n",
       "      <th></th>\n",
       "      <th></th>\n",
       "      <th></th>\n",
       "      <th></th>\n",
       "      <th></th>\n",
       "      <th></th>\n",
       "      <th></th>\n",
       "      <th></th>\n",
       "      <th></th>\n",
       "      <th></th>\n",
       "      <th></th>\n",
       "      <th></th>\n",
       "      <th></th>\n",
       "      <th></th>\n",
       "      <th></th>\n",
       "      <th></th>\n",
       "      <th></th>\n",
       "      <th></th>\n",
       "      <th></th>\n",
       "      <th></th>\n",
       "      <th></th>\n",
       "      <th></th>\n",
       "      <th></th>\n",
       "      <th></th>\n",
       "    </tr>\n",
       "  </thead>\n",
       "  <tbody>\n",
       "    <tr>\n",
       "      <th>19244175</th>\n",
       "      <td>[59.32051888366771, 18.063696193591962]</td>\n",
       "      <td>Bellmansgatan 6A, 1 tr</td>\n",
       "      <td>Stockholms kommun</td>\n",
       "      <td>Bostadsrättslägenhet</td>\n",
       "      <td>False</td>\n",
       "      <td>False</td>\n",
       "      <td>0</td>\n",
       "      <td>0</td>\n",
       "      <td>False</td>\n",
       "      <td>10</td>\n",
       "      <td>19396</td>\n",
       "      <td>45</td>\n",
       "      <td>False</td>\n",
       "      <td>https://bilder.hemnet.se/images/itemgallery_S/...</td>\n",
       "      <td>https://bilder.hemnet.se/images/itemgallery_M/...</td>\n",
       "      <td>https://www.hemnet.se/bostad/lagenhet-10rum-so...</td>\n",
       "      <td>[]</td>\n",
       "      <td>0</td>\n",
       "      <td>Per Jansson Fastighetsförmedling AB</td>\n",
       "      <td>Södermalm, Stockholms kommun</td>\n",
       "      <td>False</td>\n",
       "      <td>19244175</td>\n",
       "      <td>common_listing</td>\n",
       "      <td>premium</td>\n",
       "      <td>active</td>\n",
       "      <td>for_sale</td>\n",
       "      <td>NaN</td>\n",
       "      <td>sodermalm</td>\n",
       "      <td>20221203</td>\n",
       "      <td>True</td>\n",
       "      <td>True</td>\n",
       "      <td>False</td>\n",
       "      <td>False</td>\n",
       "      <td>502</td>\n",
       "      <td>None</td>\n",
       "    </tr>\n",
       "  </tbody>\n",
       "</table>\n",
       "</div>"
      ],
      "text/plain": [
       "                                       coordinate                 address  \\\n",
       "id                                                                          \n",
       "19244175  [59.32051888366771, 18.063696193591962]  Bellmansgatan 6A, 1 tr   \n",
       "\n",
       "              location_name           typeSummary  ongoing_bidding  \\\n",
       "id                                                                   \n",
       "19244175  Stockholms kommun  Bostadsrättslägenhet            False   \n",
       "\n",
       "          foreclosure  price  price_per_area  has_price_change rooms    fee  \\\n",
       "id                                                                            \n",
       "19244175        False      0               0             False    10  19396   \n",
       "\n",
       "          age  deactivated_before_open_house  \\\n",
       "id                                             \n",
       "19244175   45                          False   \n",
       "\n",
       "                                            small_image_url  \\\n",
       "id                                                            \n",
       "19244175  https://bilder.hemnet.se/images/itemgallery_S/...   \n",
       "\n",
       "                                           medium_image_url  \\\n",
       "id                                                            \n",
       "19244175  https://bilder.hemnet.se/images/itemgallery_M/...   \n",
       "\n",
       "                                                        url state_labels  \\\n",
       "id                                                                         \n",
       "19244175  https://www.hemnet.se/bostad/lagenhet-10rum-so...           []   \n",
       "\n",
       "          visible_project_units                   broker_agency_name  \\\n",
       "id                                                                     \n",
       "19244175                      0  Per Jansson Fastighetsförmedling AB   \n",
       "\n",
       "                      locations_string  should_highlight_showings listingId  \\\n",
       "id                                                                            \n",
       "19244175  Södermalm, Stockholms kommun                      False  19244175   \n",
       "\n",
       "             listingType listingPackageType listingState listingStatus  \\\n",
       "id                                                                       \n",
       "19244175  common_listing            premium       active      for_sale   \n",
       "\n",
       "          price_change       area      date  balcony  elevator  patio  \\\n",
       "id                                                                      \n",
       "19244175           NaN  sodermalm  20221203     True      True  False   \n",
       "\n",
       "          tenure_owned  living_area supplemental_area  \n",
       "id                                                     \n",
       "19244175         False          502              None  "
      ]
     },
     "execution_count": 34,
     "metadata": {},
     "output_type": "execute_result"
    }
   ],
   "source": [
    "df.loc[df['living_area']==502]"
   ]
  },
  {
   "cell_type": "code",
   "execution_count": 36,
   "metadata": {},
   "outputs": [
    {
     "data": {
      "text/plain": [
       "35"
      ]
     },
     "execution_count": 36,
     "metadata": {},
     "output_type": "execute_result"
    }
   ],
   "source": [
    "# I det här fallet blir size 1 x 35\n",
    "df[df.living_area==502].size"
   ]
  },
  {
   "cell_type": "code",
   "execution_count": 37,
   "metadata": {},
   "outputs": [
    {
     "data": {
      "text/plain": [
       "70"
      ]
     },
     "execution_count": 37,
     "metadata": {},
     "output_type": "execute_result"
    }
   ],
   "source": [
    "# I det här fallet blir size 2 x 35\n",
    "df.head(2).size"
   ]
  },
  {
   "cell_type": "code",
   "execution_count": 52,
   "metadata": {},
   "outputs": [
    {
     "data": {
      "text/plain": [
       "0   35\n",
       "Name: living_area, dtype: float64"
      ]
     },
     "execution_count": 52,
     "metadata": {},
     "output_type": "execute_result"
    }
   ],
   "source": [
    "df[\"living_area\"].mode()"
   ]
  },
  {
   "cell_type": "code",
   "execution_count": 53,
   "metadata": {},
   "outputs": [
    {
     "data": {
      "text/plain": [
       "id\n",
       "19324990    False\n",
       "19325173    False\n",
       "19102415    False\n",
       "18956296    False\n",
       "19158120    False\n",
       "            ...  \n",
       "18987175    False\n",
       "18976122    False\n",
       "18941998    False\n",
       "18669396    False\n",
       "16998076    False\n",
       "Name: living_area, Length: 1252, dtype: bool"
      ]
     },
     "execution_count": 53,
     "metadata": {},
     "output_type": "execute_result"
    }
   ],
   "source": [
    "df[\"living_area\"]==502"
   ]
  },
  {
   "cell_type": "code",
   "execution_count": 54,
   "metadata": {},
   "outputs": [
    {
     "data": {
      "text/html": [
       "<div>\n",
       "<style scoped>\n",
       "    .dataframe tbody tr th:only-of-type {\n",
       "        vertical-align: middle;\n",
       "    }\n",
       "\n",
       "    .dataframe tbody tr th {\n",
       "        vertical-align: top;\n",
       "    }\n",
       "\n",
       "    .dataframe thead th {\n",
       "        text-align: right;\n",
       "    }\n",
       "</style>\n",
       "<table border=\"1\" class=\"dataframe\">\n",
       "  <thead>\n",
       "    <tr style=\"text-align: right;\">\n",
       "      <th></th>\n",
       "      <th>coordinate</th>\n",
       "      <th>address</th>\n",
       "      <th>location_name</th>\n",
       "      <th>typeSummary</th>\n",
       "      <th>ongoing_bidding</th>\n",
       "      <th>foreclosure</th>\n",
       "      <th>price</th>\n",
       "      <th>price_per_area</th>\n",
       "      <th>has_price_change</th>\n",
       "      <th>rooms</th>\n",
       "      <th>...</th>\n",
       "      <th>listingStatus</th>\n",
       "      <th>price_change</th>\n",
       "      <th>area</th>\n",
       "      <th>date</th>\n",
       "      <th>balcony</th>\n",
       "      <th>elevator</th>\n",
       "      <th>patio</th>\n",
       "      <th>tenure_owned</th>\n",
       "      <th>living_area</th>\n",
       "      <th>supplemental_area</th>\n",
       "    </tr>\n",
       "    <tr>\n",
       "      <th>id</th>\n",
       "      <th></th>\n",
       "      <th></th>\n",
       "      <th></th>\n",
       "      <th></th>\n",
       "      <th></th>\n",
       "      <th></th>\n",
       "      <th></th>\n",
       "      <th></th>\n",
       "      <th></th>\n",
       "      <th></th>\n",
       "      <th></th>\n",
       "      <th></th>\n",
       "      <th></th>\n",
       "      <th></th>\n",
       "      <th></th>\n",
       "      <th></th>\n",
       "      <th></th>\n",
       "      <th></th>\n",
       "      <th></th>\n",
       "      <th></th>\n",
       "      <th></th>\n",
       "    </tr>\n",
       "  </thead>\n",
       "  <tbody>\n",
       "    <tr>\n",
       "      <th>19244175</th>\n",
       "      <td>[59.32051888366771, 18.063696193591962]</td>\n",
       "      <td>Bellmansgatan 6A, 1 tr</td>\n",
       "      <td>Stockholms kommun</td>\n",
       "      <td>Bostadsrättslägenhet</td>\n",
       "      <td>False</td>\n",
       "      <td>False</td>\n",
       "      <td>0</td>\n",
       "      <td>0</td>\n",
       "      <td>False</td>\n",
       "      <td>10</td>\n",
       "      <td>...</td>\n",
       "      <td>for_sale</td>\n",
       "      <td>NaN</td>\n",
       "      <td>sodermalm</td>\n",
       "      <td>20221203</td>\n",
       "      <td>True</td>\n",
       "      <td>True</td>\n",
       "      <td>False</td>\n",
       "      <td>False</td>\n",
       "      <td>502</td>\n",
       "      <td>None</td>\n",
       "    </tr>\n",
       "  </tbody>\n",
       "</table>\n",
       "<p>1 rows × 35 columns</p>\n",
       "</div>"
      ],
      "text/plain": [
       "                                       coordinate                 address  \\\n",
       "id                                                                          \n",
       "19244175  [59.32051888366771, 18.063696193591962]  Bellmansgatan 6A, 1 tr   \n",
       "\n",
       "              location_name           typeSummary  ongoing_bidding  \\\n",
       "id                                                                   \n",
       "19244175  Stockholms kommun  Bostadsrättslägenhet            False   \n",
       "\n",
       "          foreclosure  price  price_per_area  has_price_change rooms  ...  \\\n",
       "id                                                                    ...   \n",
       "19244175        False      0               0             False    10  ...   \n",
       "\n",
       "          listingStatus  price_change       area      date balcony elevator  \\\n",
       "id                                                                            \n",
       "19244175       for_sale           NaN  sodermalm  20221203    True     True   \n",
       "\n",
       "          patio  tenure_owned living_area supplemental_area  \n",
       "id                                                           \n",
       "19244175  False         False         502              None  \n",
       "\n",
       "[1 rows x 35 columns]"
      ]
     },
     "execution_count": 54,
     "metadata": {},
     "output_type": "execute_result"
    }
   ],
   "source": [
    "df[df[\"living_area\"]==502]"
   ]
  },
  {
   "cell_type": "code",
   "execution_count": 38,
   "metadata": {},
   "outputs": [
    {
     "data": {
      "image/png": "[encoded data removed]",
      "text/plain": [
       "<Figure size 640x480 with 1 Axes>"
      ]
     },
     "metadata": {},
     "output_type": "display_data"
    }
   ],
   "source": [
    "df[['living_area']].plot(kind='hist', density=True, stacked=False);"
   ]
  },
  {
   "cell_type": "code",
   "execution_count": 40,
   "metadata": {},
   "outputs": [
    {
     "data": {
      "image/png": "[encoded data removed]",
      "text/plain": [
       "<Figure size 640x480 with 1 Axes>"
      ]
     },
     "metadata": {},
     "output_type": "display_data"
    }
   ],
   "source": [
    "df[['living_area']].plot(kind='hist', bins=50, density=True, stacked=False);"
   ]
  },
  {
   "cell_type": "code",
   "execution_count": 41,
   "metadata": {},
   "outputs": [
    {
     "data": {
      "text/plain": [
       "id\n",
       "19324990    14950000\n",
       "19325173     6795000\n",
       "19102415    14995000\n",
       "18956296     9450000\n",
       "19158120    19800000\n",
       "              ...   \n",
       "18987175     3595000\n",
       "18976122     6850000\n",
       "18941998    15495000\n",
       "18669396     4095000\n",
       "16998076     3995000\n",
       "Name: price, Length: 1252, dtype: int32"
      ]
     },
     "execution_count": 41,
     "metadata": {},
     "output_type": "execute_result"
    }
   ],
   "source": [
    "df['price']"
   ]
  },
  {
   "cell_type": "code",
   "execution_count": 42,
   "metadata": {},
   "outputs": [
    {
     "name": "stdout",
     "output_type": "stream",
     "text": [
      "<class 'pandas.core.frame.DataFrame'>\n",
      "Int64Index: 1252 entries, 19324990 to 16998076\n",
      "Data columns (total 35 columns):\n",
      " #   Column                         Non-Null Count  Dtype  \n",
      "---  ------                         --------------  -----  \n",
      " 0   coordinate                     1252 non-null   object \n",
      " 1   address                        1252 non-null   object \n",
      " 2   location_name                  1252 non-null   object \n",
      " 3   typeSummary                    1252 non-null   object \n",
      " 4   ongoing_bidding                1252 non-null   bool   \n",
      " 5   foreclosure                    1252 non-null   bool   \n",
      " 6   price                          1252 non-null   int32  \n",
      " 7   price_per_area                 1252 non-null   int32  \n",
      " 8   has_price_change               1252 non-null   bool   \n",
      " 9   rooms                          1249 non-null   object \n",
      " 10  fee                            1252 non-null   int32  \n",
      " 11  age                            1252 non-null   int64  \n",
      " 12  deactivated_before_open_house  1252 non-null   bool   \n",
      " 13  small_image_url                1252 non-null   object \n",
      " 14  medium_image_url               1251 non-null   object \n",
      " 15  url                            1252 non-null   object \n",
      " 16  state_labels                   1252 non-null   object \n",
      " 17  visible_project_units          1252 non-null   int64  \n",
      " 18  broker_agency_name             1252 non-null   object \n",
      " 19  locations_string               1252 non-null   object \n",
      " 20  should_highlight_showings      1252 non-null   bool   \n",
      " 21  listingId                      1252 non-null   object \n",
      " 22  listingType                    1252 non-null   object \n",
      " 23  listingPackageType             1252 non-null   object \n",
      " 24  listingState                   1252 non-null   object \n",
      " 25  listingStatus                  1252 non-null   object \n",
      " 26  price_change                   188 non-null    float64\n",
      " 27  area                           1252 non-null   object \n",
      " 28  date                           1252 non-null   object \n",
      " 29  balcony                        1252 non-null   bool   \n",
      " 30  elevator                       1252 non-null   bool   \n",
      " 31  patio                          1252 non-null   bool   \n",
      " 32  tenure_owned                   1252 non-null   bool   \n",
      " 33  living_area                    1248 non-null   float64\n",
      " 34  supplemental_area              48 non-null     object \n",
      "dtypes: bool(9), float64(2), int32(3), int64(2), object(19)\n",
      "memory usage: 260.4+ KB\n"
     ]
    }
   ],
   "source": [
    "df.info()"
   ]
  },
  {
   "cell_type": "code",
   "execution_count": 19,
   "metadata": {},
   "outputs": [],
   "source": [
    "#df['price']=df['price'].replace('Prissaknas', np.nan)"
   ]
  },
  {
   "cell_type": "code",
   "execution_count": 20,
   "metadata": {},
   "outputs": [
    {
     "data": {
      "text/plain": [
       "Series([], Name: price, dtype: int64)"
      ]
     },
     "execution_count": 20,
     "metadata": {},
     "output_type": "execute_result"
    }
   ],
   "source": [
    "df['price'].apply(check_int).dropna().value_counts()"
   ]
  },
  {
   "cell_type": "code",
   "execution_count": 21,
   "metadata": {},
   "outputs": [],
   "source": [
    "col = df.loc[:, ['price']]"
   ]
  },
  {
   "cell_type": "code",
   "execution_count": 22,
   "metadata": {},
   "outputs": [
    {
     "data": {
      "text/plain": [
       "price   \n",
       "3995000     40\n",
       "2995000     28\n",
       "3495000     24\n",
       "4995000     23\n",
       "5495000     22\n",
       "            ..\n",
       "7900000      1\n",
       "4145000      1\n",
       "3980000      1\n",
       "8000000      1\n",
       "78000000     1\n",
       "Length: 371, dtype: int64"
      ]
     },
     "execution_count": 22,
     "metadata": {},
     "output_type": "execute_result"
    }
   ],
   "source": [
    "col.value_counts()"
   ]
  },
  {
   "cell_type": "code",
   "execution_count": 23,
   "metadata": {},
   "outputs": [
    {
     "name": "stdout",
     "output_type": "stream",
     "text": [
      "<class 'pandas.core.frame.DataFrame'>\n",
      "Int64Index: 1252 entries, 19324990 to 16998076\n",
      "Data columns (total 1 columns):\n",
      " #   Column  Non-Null Count  Dtype\n",
      "---  ------  --------------  -----\n",
      " 0   price   1252 non-null   int32\n",
      "dtypes: int32(1)\n",
      "memory usage: 14.7 KB\n"
     ]
    }
   ],
   "source": [
    "col.info()"
   ]
  },
  {
   "cell_type": "code",
   "execution_count": 24,
   "metadata": {},
   "outputs": [
    {
     "data": {
      "text/plain": [
       "10"
      ]
     },
     "execution_count": 24,
     "metadata": {},
     "output_type": "execute_result"
    }
   ],
   "source": [
    "count = col.loc[col['price'] == 0,'price']\n",
    "count.count()"
   ]
  },
  {
   "cell_type": "code",
   "execution_count": 25,
   "metadata": {},
   "outputs": [
    {
     "data": {
      "text/plain": [
       "5922123.722044729"
      ]
     },
     "execution_count": 25,
     "metadata": {},
     "output_type": "execute_result"
    }
   ],
   "source": [
    "col.values.mean()"
   ]
  },
  {
   "cell_type": "code",
   "execution_count": 26,
   "metadata": {},
   "outputs": [
    {
     "data": {
      "text/plain": [
       "price   4597500\n",
       "dtype: float64"
      ]
     },
     "execution_count": 26,
     "metadata": {},
     "output_type": "execute_result"
    }
   ],
   "source": [
    "col.median()"
   ]
  },
  {
   "cell_type": "code",
   "execution_count": 27,
   "metadata": {},
   "outputs": [
    {
     "data": {
      "text/plain": [
       "price   4597500\n",
       "Name: 0.5, dtype: float64"
      ]
     },
     "execution_count": 27,
     "metadata": {},
     "output_type": "execute_result"
    }
   ],
   "source": [
    "col.quantile(.5)"
   ]
  },
  {
   "cell_type": "code",
   "execution_count": 28,
   "metadata": {},
   "outputs": [
    {
     "data": {
      "text/plain": [
       "array([[<AxesSubplot: title={'center': 'price'}>]], dtype=object)"
      ]
     },
     "execution_count": 28,
     "metadata": {},
     "output_type": "execute_result"
    },
    {
     "data": {
      "image/png": "[encoded data removed]",
      "text/plain": [
       "<Figure size 640x480 with 1 Axes>"
      ]
     },
     "metadata": {},
     "output_type": "display_data"
    }
   ],
   "source": [
    "col.hist()"
   ]
  },
  {
   "cell_type": "code",
   "execution_count": 29,
   "metadata": {},
   "outputs": [
    {
     "data": {
      "text/plain": [
       "price   3580000\n",
       "dtype: float64"
      ]
     },
     "execution_count": 29,
     "metadata": {},
     "output_type": "execute_result"
    }
   ],
   "source": [
    "iqr=col.quantile(.75)-col.quantile(.25)\n",
    "iqr"
   ]
  },
  {
   "cell_type": "code",
   "execution_count": 30,
   "metadata": {},
   "outputs": [
    {
     "data": {
      "text/plain": [
       "price    78000000\n",
       "dtype: int32"
      ]
     },
     "execution_count": 30,
     "metadata": {},
     "output_type": "execute_result"
    }
   ],
   "source": [
    "col.max()"
   ]
  },
  {
   "cell_type": "code",
   "execution_count": 31,
   "metadata": {},
   "outputs": [
    {
     "data": {
      "text/plain": [
       "price    0\n",
       "dtype: int32"
      ]
     },
     "execution_count": 31,
     "metadata": {},
     "output_type": "execute_result"
    }
   ],
   "source": [
    "col.min()"
   ]
  },
  {
   "cell_type": "code",
   "execution_count": 32,
   "metadata": {},
   "outputs": [],
   "source": [
    "col=col.reset_index(drop=True)"
   ]
  },
  {
   "cell_type": "code",
   "execution_count": 33,
   "metadata": {},
   "outputs": [],
   "source": [
    "pd.options.display.float_format = '{:.0f}'.format"
   ]
  },
  {
   "cell_type": "code",
   "execution_count": 34,
   "metadata": {},
   "outputs": [
    {
     "data": {
      "text/html": [
       "<div>\n",
       "<style scoped>\n",
       "    .dataframe tbody tr th:only-of-type {\n",
       "        vertical-align: middle;\n",
       "    }\n",
       "\n",
       "    .dataframe tbody tr th {\n",
       "        vertical-align: top;\n",
       "    }\n",
       "\n",
       "    .dataframe thead th {\n",
       "        text-align: right;\n",
       "    }\n",
       "</style>\n",
       "<table border=\"1\" class=\"dataframe\">\n",
       "  <thead>\n",
       "    <tr style=\"text-align: right;\">\n",
       "      <th></th>\n",
       "      <th>price</th>\n",
       "    </tr>\n",
       "  </thead>\n",
       "  <tbody>\n",
       "    <tr>\n",
       "      <th>count</th>\n",
       "      <td>1252</td>\n",
       "    </tr>\n",
       "    <tr>\n",
       "      <th>mean</th>\n",
       "      <td>5922124</td>\n",
       "    </tr>\n",
       "    <tr>\n",
       "      <th>std</th>\n",
       "      <td>4679745</td>\n",
       "    </tr>\n",
       "    <tr>\n",
       "      <th>min</th>\n",
       "      <td>0</td>\n",
       "    </tr>\n",
       "    <tr>\n",
       "      <th>25%</th>\n",
       "      <td>3395000</td>\n",
       "    </tr>\n",
       "    <tr>\n",
       "      <th>50%</th>\n",
       "      <td>4597500</td>\n",
       "    </tr>\n",
       "    <tr>\n",
       "      <th>75%</th>\n",
       "      <td>6975000</td>\n",
       "    </tr>\n",
       "    <tr>\n",
       "      <th>max</th>\n",
       "      <td>78000000</td>\n",
       "    </tr>\n",
       "  </tbody>\n",
       "</table>\n",
       "</div>"
      ],
      "text/plain": [
       "         price\n",
       "count     1252\n",
       "mean   5922124\n",
       "std    4679745\n",
       "min          0\n",
       "25%    3395000\n",
       "50%    4597500\n",
       "75%    6975000\n",
       "max   78000000"
      ]
     },
     "execution_count": 34,
     "metadata": {},
     "output_type": "execute_result"
    }
   ],
   "source": [
    "col.describe()"
   ]
  },
  {
   "cell_type": "code",
   "execution_count": 35,
   "metadata": {},
   "outputs": [
    {
     "data": {
      "text/plain": [
       "<AxesSubplot: ylabel='Frequency'>"
      ]
     },
     "execution_count": 35,
     "metadata": {},
     "output_type": "execute_result"
    },
    {
     "data": {
      "image/png": "[encoded data removed]",
      "text/plain": [
       "<Figure size 640x480 with 1 Axes>"
      ]
     },
     "metadata": {},
     "output_type": "display_data"
    }
   ],
   "source": [
    "col.plot(kind='hist')"
   ]
  },
  {
   "cell_type": "code",
   "execution_count": 36,
   "metadata": {},
   "outputs": [
    {
     "data": {
      "text/html": [
       "<div>\n",
       "<style scoped>\n",
       "    .dataframe tbody tr th:only-of-type {\n",
       "        vertical-align: middle;\n",
       "    }\n",
       "\n",
       "    .dataframe tbody tr th {\n",
       "        vertical-align: top;\n",
       "    }\n",
       "\n",
       "    .dataframe thead th {\n",
       "        text-align: right;\n",
       "    }\n",
       "</style>\n",
       "<table border=\"1\" class=\"dataframe\">\n",
       "  <thead>\n",
       "    <tr style=\"text-align: right;\">\n",
       "      <th></th>\n",
       "      <th>price</th>\n",
       "    </tr>\n",
       "  </thead>\n",
       "  <tbody>\n",
       "    <tr>\n",
       "      <th>853</th>\n",
       "      <td>0</td>\n",
       "    </tr>\n",
       "    <tr>\n",
       "      <th>352</th>\n",
       "      <td>0</td>\n",
       "    </tr>\n",
       "    <tr>\n",
       "      <th>567</th>\n",
       "      <td>0</td>\n",
       "    </tr>\n",
       "    <tr>\n",
       "      <th>626</th>\n",
       "      <td>0</td>\n",
       "    </tr>\n",
       "    <tr>\n",
       "      <th>383</th>\n",
       "      <td>0</td>\n",
       "    </tr>\n",
       "    <tr>\n",
       "      <th>...</th>\n",
       "      <td>...</td>\n",
       "    </tr>\n",
       "    <tr>\n",
       "      <th>367</th>\n",
       "      <td>30000000</td>\n",
       "    </tr>\n",
       "    <tr>\n",
       "      <th>434</th>\n",
       "      <td>37000000</td>\n",
       "    </tr>\n",
       "    <tr>\n",
       "      <th>525</th>\n",
       "      <td>39500000</td>\n",
       "    </tr>\n",
       "    <tr>\n",
       "      <th>1206</th>\n",
       "      <td>47500000</td>\n",
       "    </tr>\n",
       "    <tr>\n",
       "      <th>412</th>\n",
       "      <td>78000000</td>\n",
       "    </tr>\n",
       "  </tbody>\n",
       "</table>\n",
       "<p>1252 rows × 1 columns</p>\n",
       "</div>"
      ],
      "text/plain": [
       "         price\n",
       "853          0\n",
       "352          0\n",
       "567          0\n",
       "626          0\n",
       "383          0\n",
       "...        ...\n",
       "367   30000000\n",
       "434   37000000\n",
       "525   39500000\n",
       "1206  47500000\n",
       "412   78000000\n",
       "\n",
       "[1252 rows x 1 columns]"
      ]
     },
     "execution_count": 36,
     "metadata": {},
     "output_type": "execute_result"
    }
   ],
   "source": [
    "col.sort_values(by='price')"
   ]
  },
  {
   "cell_type": "code",
   "execution_count": 37,
   "metadata": {},
   "outputs": [
    {
     "data": {
      "text/plain": [
       "3995000     40\n",
       "2995000     28\n",
       "3495000     24\n",
       "4995000     23\n",
       "5495000     22\n",
       "            ..\n",
       "9000000      1\n",
       "12975000     1\n",
       "8475000      1\n",
       "6595000      1\n",
       "10855000     1\n",
       "Name: price, Length: 371, dtype: int64"
      ]
     },
     "execution_count": 37,
     "metadata": {},
     "output_type": "execute_result"
    }
   ],
   "source": [
    "s=col['price']\n",
    "s.value_counts()"
   ]
  },
  {
   "cell_type": "markdown",
   "metadata": {},
   "source": [
    "col.astype(float)\n",
    "col.astype(int)"
   ]
  },
  {
   "cell_type": "markdown",
   "metadata": {},
   "source": [
    "# select only columns with integer data type\n",
    "columns = col.select_dtypes(include=[np.number])\n",
    "columns.info()"
   ]
  },
  {
   "cell_type": "code",
   "execution_count": 38,
   "metadata": {},
   "outputs": [
    {
     "name": "stdout",
     "output_type": "stream",
     "text": [
      "<class 'pandas.core.series.Series'>\n",
      "RangeIndex: 1252 entries, 0 to 1251\n",
      "Series name: price\n",
      "Non-Null Count  Dtype\n",
      "--------------  -----\n",
      "1252 non-null   int32\n",
      "dtypes: int32(1)\n",
      "memory usage: 5.0 KB\n"
     ]
    }
   ],
   "source": [
    "s.info()"
   ]
  },
  {
   "cell_type": "markdown",
   "metadata": {},
   "source": [
    "df_string_rows = df2.select_dtypes(include=['object'])\n",
    "df_string_rows"
   ]
  },
  {
   "cell_type": "code",
   "execution_count": 39,
   "metadata": {},
   "outputs": [
    {
     "data": {
      "text/plain": [
       "Series([], Name: price, dtype: int64)"
      ]
     },
     "execution_count": 39,
     "metadata": {},
     "output_type": "execute_result"
    }
   ],
   "source": [
    "df['price'].apply(check_int).dropna().value_counts()"
   ]
  },
  {
   "cell_type": "code",
   "execution_count": 40,
   "metadata": {},
   "outputs": [
    {
     "data": {
      "text/plain": [
       "Series([], Name: living_area, dtype: int64)"
      ]
     },
     "execution_count": 40,
     "metadata": {},
     "output_type": "execute_result"
    }
   ],
   "source": [
    "df['living_area'].apply(check_int).dropna().value_counts()"
   ]
  },
  {
   "cell_type": "code",
   "execution_count": 41,
   "metadata": {},
   "outputs": [
    {
     "name": "stdout",
     "output_type": "stream",
     "text": [
      "<class 'pandas.core.frame.DataFrame'>\n",
      "Int64Index: 1252 entries, 19324990 to 16998076\n",
      "Data columns (total 35 columns):\n",
      " #   Column                         Non-Null Count  Dtype  \n",
      "---  ------                         --------------  -----  \n",
      " 0   coordinate                     1252 non-null   object \n",
      " 1   address                        1252 non-null   object \n",
      " 2   location_name                  1252 non-null   object \n",
      " 3   typeSummary                    1252 non-null   object \n",
      " 4   ongoing_bidding                1252 non-null   bool   \n",
      " 5   foreclosure                    1252 non-null   bool   \n",
      " 6   price                          1252 non-null   int32  \n",
      " 7   price_per_area                 1252 non-null   int32  \n",
      " 8   has_price_change               1252 non-null   bool   \n",
      " 9   rooms                          1249 non-null   object \n",
      " 10  fee                            1252 non-null   int32  \n",
      " 11  age                            1252 non-null   int64  \n",
      " 12  deactivated_before_open_house  1252 non-null   bool   \n",
      " 13  small_image_url                1252 non-null   object \n",
      " 14  medium_image_url               1251 non-null   object \n",
      " 15  url                            1252 non-null   object \n",
      " 16  state_labels                   1252 non-null   object \n",
      " 17  visible_project_units          1252 non-null   int64  \n",
      " 18  broker_agency_name             1252 non-null   object \n",
      " 19  locations_string               1252 non-null   object \n",
      " 20  should_highlight_showings      1252 non-null   bool   \n",
      " 21  listingId                      1252 non-null   object \n",
      " 22  listingType                    1252 non-null   object \n",
      " 23  listingPackageType             1252 non-null   object \n",
      " 24  listingState                   1252 non-null   object \n",
      " 25  listingStatus                  1252 non-null   object \n",
      " 26  price_change                   188 non-null    float64\n",
      " 27  area                           1252 non-null   object \n",
      " 28  date                           1252 non-null   object \n",
      " 29  balcony                        1252 non-null   bool   \n",
      " 30  elevator                       1252 non-null   bool   \n",
      " 31  patio                          1252 non-null   bool   \n",
      " 32  tenure_owned                   1252 non-null   bool   \n",
      " 33  living_area                    1248 non-null   float64\n",
      " 34  supplemental_area              48 non-null     object \n",
      "dtypes: bool(9), float64(2), int32(3), int64(2), object(19)\n",
      "memory usage: 260.4+ KB\n"
     ]
    }
   ],
   "source": [
    "df.info()"
   ]
  },
  {
   "cell_type": "markdown",
   "metadata": {},
   "source": [
    "df2['price_per_area'].apply(np.isreal).value_counts()"
   ]
  },
  {
   "cell_type": "markdown",
   "metadata": {},
   "source": [
    "df2['price_per_area'].str.contains('.*[A-Za-z].*', regex=True).value_counts()\n",
    "s=df2['price_per_area']\n",
    "#s=s.str.replace(' ','',regex=True).astype(int)\n",
    "#s=pd.to_numeric(s,errors='coerce')\n",
    "#s"
   ]
  },
  {
   "cell_type": "markdown",
   "metadata": {},
   "source": [
    "pd.DataFrame(s)"
   ]
  },
  {
   "cell_type": "markdown",
   "metadata": {},
   "source": [
    "\n",
    "r=df2.loc[df2['listingId']=='19330879']\n",
    "\n",
    "pd.options.display.max_colwidth = 100\n",
    "print(r['url'])"
   ]
  },
  {
   "cell_type": "code",
   "execution_count": 42,
   "metadata": {},
   "outputs": [
    {
     "data": {
      "text/plain": [
       "Series([], Name: listingId, dtype: object)"
      ]
     },
     "execution_count": 42,
     "metadata": {},
     "output_type": "execute_result"
    }
   ],
   "source": [
    "df[df['listingId'].isna()]['listingId']"
   ]
  },
  {
   "cell_type": "markdown",
   "metadata": {},
   "source": [
    "df2.loc[df2['fee'].isna(),'fee']"
   ]
  },
  {
   "cell_type": "code",
   "execution_count": 43,
   "metadata": {},
   "outputs": [
    {
     "data": {
      "text/plain": [
       "id\n",
       "19324990    19324990\n",
       "19325173    19325173\n",
       "19102415    19102415\n",
       "18956296    18956296\n",
       "19158120    19158120\n",
       "              ...   \n",
       "18987175    18987175\n",
       "18976122    18976122\n",
       "18941998    18941998\n",
       "18669396    18669396\n",
       "16998076    16998076\n",
       "Name: listingId, Length: 1252, dtype: object"
      ]
     },
     "execution_count": 43,
     "metadata": {},
     "output_type": "execute_result"
    }
   ],
   "source": [
    "df['listingId']"
   ]
  },
  {
   "cell_type": "markdown",
   "metadata": {},
   "source": [
    "ascii(df2['fee'].head(1).values[0].replace(' ',''))"
   ]
  },
  {
   "cell_type": "markdown",
   "metadata": {},
   "source": [
    "df2.loc[df2['fee']=='\\xa0','fee']"
   ]
  },
  {
   "cell_type": "code",
   "execution_count": 44,
   "metadata": {},
   "outputs": [],
   "source": [
    "newone=df.loc[:, ['price', 'fee']]"
   ]
  },
  {
   "cell_type": "code",
   "execution_count": 45,
   "metadata": {},
   "outputs": [
    {
     "data": {
      "text/html": [
       "<div>\n",
       "<style scoped>\n",
       "    .dataframe tbody tr th:only-of-type {\n",
       "        vertical-align: middle;\n",
       "    }\n",
       "\n",
       "    .dataframe tbody tr th {\n",
       "        vertical-align: top;\n",
       "    }\n",
       "\n",
       "    .dataframe thead th {\n",
       "        text-align: right;\n",
       "    }\n",
       "</style>\n",
       "<table border=\"1\" class=\"dataframe\">\n",
       "  <thead>\n",
       "    <tr style=\"text-align: right;\">\n",
       "      <th></th>\n",
       "      <th>price</th>\n",
       "      <th>fee</th>\n",
       "    </tr>\n",
       "    <tr>\n",
       "      <th>id</th>\n",
       "      <th></th>\n",
       "      <th></th>\n",
       "    </tr>\n",
       "  </thead>\n",
       "  <tbody>\n",
       "    <tr>\n",
       "      <th>19324990</th>\n",
       "      <td>14950000</td>\n",
       "      <td>4761</td>\n",
       "    </tr>\n",
       "    <tr>\n",
       "      <th>19325173</th>\n",
       "      <td>6795000</td>\n",
       "      <td>5850</td>\n",
       "    </tr>\n",
       "    <tr>\n",
       "      <th>19102415</th>\n",
       "      <td>14995000</td>\n",
       "      <td>7909</td>\n",
       "    </tr>\n",
       "    <tr>\n",
       "      <th>18956296</th>\n",
       "      <td>9450000</td>\n",
       "      <td>2875</td>\n",
       "    </tr>\n",
       "    <tr>\n",
       "      <th>19158120</th>\n",
       "      <td>19800000</td>\n",
       "      <td>7999</td>\n",
       "    </tr>\n",
       "    <tr>\n",
       "      <th>...</th>\n",
       "      <td>...</td>\n",
       "      <td>...</td>\n",
       "    </tr>\n",
       "    <tr>\n",
       "      <th>18987175</th>\n",
       "      <td>3595000</td>\n",
       "      <td>2005</td>\n",
       "    </tr>\n",
       "    <tr>\n",
       "      <th>18976122</th>\n",
       "      <td>6850000</td>\n",
       "      <td>3267</td>\n",
       "    </tr>\n",
       "    <tr>\n",
       "      <th>18941998</th>\n",
       "      <td>15495000</td>\n",
       "      <td>7233</td>\n",
       "    </tr>\n",
       "    <tr>\n",
       "      <th>18669396</th>\n",
       "      <td>4095000</td>\n",
       "      <td>2364</td>\n",
       "    </tr>\n",
       "    <tr>\n",
       "      <th>16998076</th>\n",
       "      <td>3995000</td>\n",
       "      <td>2364</td>\n",
       "    </tr>\n",
       "  </tbody>\n",
       "</table>\n",
       "<p>1252 rows × 2 columns</p>\n",
       "</div>"
      ],
      "text/plain": [
       "             price   fee\n",
       "id                      \n",
       "19324990  14950000  4761\n",
       "19325173   6795000  5850\n",
       "19102415  14995000  7909\n",
       "18956296   9450000  2875\n",
       "19158120  19800000  7999\n",
       "...            ...   ...\n",
       "18987175   3595000  2005\n",
       "18976122   6850000  3267\n",
       "18941998  15495000  7233\n",
       "18669396   4095000  2364\n",
       "16998076   3995000  2364\n",
       "\n",
       "[1252 rows x 2 columns]"
      ]
     },
     "execution_count": 45,
     "metadata": {},
     "output_type": "execute_result"
    }
   ],
   "source": [
    "newone"
   ]
  },
  {
   "cell_type": "code",
   "execution_count": 46,
   "metadata": {},
   "outputs": [
    {
     "data": {
      "text/plain": [
       "3995000     40\n",
       "2995000     28\n",
       "3495000     24\n",
       "4995000     23\n",
       "5495000     22\n",
       "            ..\n",
       "9000000      1\n",
       "12975000     1\n",
       "8475000      1\n",
       "6595000      1\n",
       "10855000     1\n",
       "Name: price, Length: 371, dtype: int64"
      ]
     },
     "execution_count": 46,
     "metadata": {},
     "output_type": "execute_result"
    }
   ],
   "source": [
    "newone.loc[:,'price'].value_counts()"
   ]
  },
  {
   "cell_type": "code",
   "execution_count": 55,
   "metadata": {},
   "outputs": [
    {
     "name": "stdout",
     "output_type": "stream",
     "text": [
      "<class 'pandas.core.frame.DataFrame'>\n",
      "Int64Index: 1252 entries, 19324990 to 16998076\n",
      "Data columns (total 2 columns):\n",
      " #   Column  Non-Null Count  Dtype\n",
      "---  ------  --------------  -----\n",
      " 0   price   1252 non-null   int32\n",
      " 1   fee     1252 non-null   int32\n",
      "dtypes: int32(2)\n",
      "memory usage: 19.6 KB\n"
     ]
    }
   ],
   "source": [
    "newone.info()"
   ]
  },
  {
   "cell_type": "code",
   "execution_count": 57,
   "metadata": {},
   "outputs": [
    {
     "data": {
      "text/plain": [
       "<AxesSubplot: xlabel='price', ylabel='fee'>"
      ]
     },
     "execution_count": 57,
     "metadata": {},
     "output_type": "execute_result"
    },
    {
     "data": {
      "image/png": "[encoded data removed]",
      "text/plain": [
       "<Figure size 640x480 with 1 Axes>"
      ]
     },
     "metadata": {},
     "output_type": "display_data"
    }
   ],
   "source": [
    "newone.plot.scatter(x='price',y='fee')"
   ]
  },
  {
   "cell_type": "code",
   "execution_count": 68,
   "metadata": {},
   "outputs": [
    {
     "data": {
      "text/html": [
       "<div>\n",
       "<style scoped>\n",
       "    .dataframe tbody tr th:only-of-type {\n",
       "        vertical-align: middle;\n",
       "    }\n",
       "\n",
       "    .dataframe tbody tr th {\n",
       "        vertical-align: top;\n",
       "    }\n",
       "\n",
       "    .dataframe thead th {\n",
       "        text-align: right;\n",
       "    }\n",
       "</style>\n",
       "<table border=\"1\" class=\"dataframe\">\n",
       "  <thead>\n",
       "    <tr style=\"text-align: right;\">\n",
       "      <th></th>\n",
       "      <th>coordinate</th>\n",
       "      <th>address</th>\n",
       "      <th>location_name</th>\n",
       "      <th>typeSummary</th>\n",
       "      <th>ongoing_bidding</th>\n",
       "      <th>foreclosure</th>\n",
       "      <th>price</th>\n",
       "      <th>price_per_area</th>\n",
       "      <th>has_price_change</th>\n",
       "      <th>rooms</th>\n",
       "      <th>fee</th>\n",
       "      <th>age</th>\n",
       "      <th>deactivated_before_open_house</th>\n",
       "      <th>small_image_url</th>\n",
       "      <th>medium_image_url</th>\n",
       "      <th>url</th>\n",
       "      <th>state_labels</th>\n",
       "      <th>visible_project_units</th>\n",
       "      <th>broker_agency_name</th>\n",
       "      <th>locations_string</th>\n",
       "      <th>should_highlight_showings</th>\n",
       "      <th>listingId</th>\n",
       "      <th>listingType</th>\n",
       "      <th>listingPackageType</th>\n",
       "      <th>listingState</th>\n",
       "      <th>listingStatus</th>\n",
       "      <th>price_change</th>\n",
       "      <th>area</th>\n",
       "      <th>date</th>\n",
       "      <th>balcony</th>\n",
       "      <th>elevator</th>\n",
       "      <th>patio</th>\n",
       "      <th>tenure_owned</th>\n",
       "      <th>living_area</th>\n",
       "      <th>supplemental_area</th>\n",
       "    </tr>\n",
       "    <tr>\n",
       "      <th>id</th>\n",
       "      <th></th>\n",
       "      <th></th>\n",
       "      <th></th>\n",
       "      <th></th>\n",
       "      <th></th>\n",
       "      <th></th>\n",
       "      <th></th>\n",
       "      <th></th>\n",
       "      <th></th>\n",
       "      <th></th>\n",
       "      <th></th>\n",
       "      <th></th>\n",
       "      <th></th>\n",
       "      <th></th>\n",
       "      <th></th>\n",
       "      <th></th>\n",
       "      <th></th>\n",
       "      <th></th>\n",
       "      <th></th>\n",
       "      <th></th>\n",
       "      <th></th>\n",
       "      <th></th>\n",
       "      <th></th>\n",
       "      <th></th>\n",
       "      <th></th>\n",
       "      <th></th>\n",
       "      <th></th>\n",
       "      <th></th>\n",
       "      <th></th>\n",
       "      <th></th>\n",
       "      <th></th>\n",
       "      <th></th>\n",
       "      <th></th>\n",
       "      <th></th>\n",
       "      <th></th>\n",
       "    </tr>\n",
       "  </thead>\n",
       "  <tbody>\n",
       "    <tr>\n",
       "      <th>18895298</th>\n",
       "      <td>[59.3394966, 18.0697384]</td>\n",
       "      <td>Engelbrektsgatan 13</td>\n",
       "      <td>Stockholms kommun</td>\n",
       "      <td>Bostadsrättslägenhet</td>\n",
       "      <td>False</td>\n",
       "      <td>False</td>\n",
       "      <td>78000000</td>\n",
       "      <td>78000000</td>\n",
       "      <td>False</td>\n",
       "      <td>8</td>\n",
       "      <td>12156</td>\n",
       "      <td>143</td>\n",
       "      <td>False</td>\n",
       "      <td>https://bilder.hemnet.se/images/itemgallery_S/...</td>\n",
       "      <td>https://bilder.hemnet.se/images/itemgallery_M/...</td>\n",
       "      <td>https://www.hemnet.se/bostad/lagenhet-8rum-ost...</td>\n",
       "      <td>[]</td>\n",
       "      <td>0</td>\n",
       "      <td>Edward &amp; Partners Fastighetsmäklare AB</td>\n",
       "      <td>Östermalm, Stockholms kommun</td>\n",
       "      <td>False</td>\n",
       "      <td>18895298</td>\n",
       "      <td>common_listing</td>\n",
       "      <td>basic</td>\n",
       "      <td>active</td>\n",
       "      <td>for_sale</td>\n",
       "      <td>NaN</td>\n",
       "      <td>ostermalm</td>\n",
       "      <td>20221203</td>\n",
       "      <td>True</td>\n",
       "      <td>True</td>\n",
       "      <td>False</td>\n",
       "      <td>False</td>\n",
       "      <td>308</td>\n",
       "      <td>None</td>\n",
       "    </tr>\n",
       "  </tbody>\n",
       "</table>\n",
       "</div>"
      ],
      "text/plain": [
       "                        coordinate              address      location_name  \\\n",
       "id                                                                           \n",
       "18895298  [59.3394966, 18.0697384]  Engelbrektsgatan 13  Stockholms kommun   \n",
       "\n",
       "                   typeSummary  ongoing_bidding  foreclosure     price  \\\n",
       "id                                                                       \n",
       "18895298  Bostadsrättslägenhet            False        False  78000000   \n",
       "\n",
       "          price_per_area  has_price_change rooms    fee  age  \\\n",
       "id                                                             \n",
       "18895298        78000000             False     8  12156  143   \n",
       "\n",
       "          deactivated_before_open_house  \\\n",
       "id                                        \n",
       "18895298                          False   \n",
       "\n",
       "                                            small_image_url  \\\n",
       "id                                                            \n",
       "18895298  https://bilder.hemnet.se/images/itemgallery_S/...   \n",
       "\n",
       "                                           medium_image_url  \\\n",
       "id                                                            \n",
       "18895298  https://bilder.hemnet.se/images/itemgallery_M/...   \n",
       "\n",
       "                                                        url state_labels  \\\n",
       "id                                                                         \n",
       "18895298  https://www.hemnet.se/bostad/lagenhet-8rum-ost...           []   \n",
       "\n",
       "          visible_project_units                      broker_agency_name  \\\n",
       "id                                                                        \n",
       "18895298                      0  Edward & Partners Fastighetsmäklare AB   \n",
       "\n",
       "                      locations_string  should_highlight_showings listingId  \\\n",
       "id                                                                            \n",
       "18895298  Östermalm, Stockholms kommun                      False  18895298   \n",
       "\n",
       "             listingType listingPackageType listingState listingStatus  \\\n",
       "id                                                                       \n",
       "18895298  common_listing              basic       active      for_sale   \n",
       "\n",
       "          price_change       area      date  balcony  elevator  patio  \\\n",
       "id                                                                      \n",
       "18895298           NaN  ostermalm  20221203     True      True  False   \n",
       "\n",
       "          tenure_owned  living_area supplemental_area  \n",
       "id                                                     \n",
       "18895298         False          308              None  "
      ]
     },
     "execution_count": 68,
     "metadata": {},
     "output_type": "execute_result"
    }
   ],
   "source": [
    "df.query(\"price > 70000000\")"
   ]
  },
  {
   "cell_type": "code",
   "execution_count": 71,
   "metadata": {},
   "outputs": [
    {
     "name": "stdout",
     "output_type": "stream",
     "text": [
      "id\n",
      "18895298    https://www.hemnet.se/bostad/lagenhet-8rum-ost...\n",
      "Name: url, dtype: object\n"
     ]
    }
   ],
   "source": [
    "print(df[newone[\"price\"] > 70000000][\"url\"])"
   ]
  },
  {
   "cell_type": "code",
   "execution_count": 62,
   "metadata": {},
   "outputs": [
    {
     "data": {
      "text/html": [
       "<div>\n",
       "<style scoped>\n",
       "    .dataframe tbody tr th:only-of-type {\n",
       "        vertical-align: middle;\n",
       "    }\n",
       "\n",
       "    .dataframe tbody tr th {\n",
       "        vertical-align: top;\n",
       "    }\n",
       "\n",
       "    .dataframe thead th {\n",
       "        text-align: right;\n",
       "    }\n",
       "</style>\n",
       "<table border=\"1\" class=\"dataframe\">\n",
       "  <thead>\n",
       "    <tr style=\"text-align: right;\">\n",
       "      <th></th>\n",
       "      <th>price</th>\n",
       "      <th>fee</th>\n",
       "    </tr>\n",
       "    <tr>\n",
       "      <th>id</th>\n",
       "      <th></th>\n",
       "      <th></th>\n",
       "    </tr>\n",
       "  </thead>\n",
       "  <tbody>\n",
       "    <tr>\n",
       "      <th>18895298</th>\n",
       "      <td>78000000</td>\n",
       "      <td>12156</td>\n",
       "    </tr>\n",
       "    <tr>\n",
       "      <th>19227179</th>\n",
       "      <td>47500000</td>\n",
       "      <td>10164</td>\n",
       "    </tr>\n",
       "    <tr>\n",
       "      <th>19278814</th>\n",
       "      <td>39500000</td>\n",
       "      <td>9378</td>\n",
       "    </tr>\n",
       "    <tr>\n",
       "      <th>19371155</th>\n",
       "      <td>37000000</td>\n",
       "      <td>5700</td>\n",
       "    </tr>\n",
       "    <tr>\n",
       "      <th>19309915</th>\n",
       "      <td>30000000</td>\n",
       "      <td>3026</td>\n",
       "    </tr>\n",
       "    <tr>\n",
       "      <th>...</th>\n",
       "      <td>...</td>\n",
       "      <td>...</td>\n",
       "    </tr>\n",
       "    <tr>\n",
       "      <th>19330879</th>\n",
       "      <td>0</td>\n",
       "      <td>0</td>\n",
       "    </tr>\n",
       "    <tr>\n",
       "      <th>19325738</th>\n",
       "      <td>0</td>\n",
       "      <td>7749</td>\n",
       "    </tr>\n",
       "    <tr>\n",
       "      <th>19256837</th>\n",
       "      <td>0</td>\n",
       "      <td>0</td>\n",
       "    </tr>\n",
       "    <tr>\n",
       "      <th>19125745</th>\n",
       "      <td>0</td>\n",
       "      <td>5624</td>\n",
       "    </tr>\n",
       "    <tr>\n",
       "      <th>19345595</th>\n",
       "      <td>0</td>\n",
       "      <td>2613</td>\n",
       "    </tr>\n",
       "  </tbody>\n",
       "</table>\n",
       "<p>1252 rows × 2 columns</p>\n",
       "</div>"
      ],
      "text/plain": [
       "             price    fee\n",
       "id                       \n",
       "18895298  78000000  12156\n",
       "19227179  47500000  10164\n",
       "19278814  39500000   9378\n",
       "19371155  37000000   5700\n",
       "19309915  30000000   3026\n",
       "...            ...    ...\n",
       "19330879         0      0\n",
       "19325738         0   7749\n",
       "19256837         0      0\n",
       "19125745         0   5624\n",
       "19345595         0   2613\n",
       "\n",
       "[1252 rows x 2 columns]"
      ]
     },
     "execution_count": 62,
     "metadata": {},
     "output_type": "execute_result"
    }
   ],
   "source": [
    "newone.sort_values(ascending=False, by=\"price\")"
   ]
  },
  {
   "cell_type": "code",
   "execution_count": null,
   "metadata": {},
   "outputs": [],
   "source": []
  }
 ],
 "metadata": {
  "kernelspec": {
   "display_name": "hemnet_transform-Rt5B78F-",
   "language": "python",
   "name": "python3"
  },
  "language_info": {
   "codemirror_mode": {
    "name": "ipython",
    "version": 3
   },
   "file_extension": ".py",
   "mimetype": "text/x-python",
   "name": "python",
   "nbconvert_exporter": "python",
   "pygments_lexer": "ipython3",
   "version": "3.10.2"
  },
  "orig_nbformat": 4,
  "vscode": {
   "interpreter": {
    "hash": "7e2554961d065952f11595ac6f4579f8f84a7ba864c84d4ea64f8e989bab681d"
   }
  }
 },
 "nbformat": 4,
 "nbformat_minor": 2
}
