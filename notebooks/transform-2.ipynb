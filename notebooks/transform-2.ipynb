{
 "cells": [
  {
   "cell_type": "code",
   "execution_count": 1,
   "metadata": {},
   "outputs": [],
   "source": [
    "import pandas as pd\n",
    "import numpy as np"
   ]
  },
  {
   "cell_type": "code",
   "execution_count": 2,
   "metadata": {},
   "outputs": [],
   "source": [
    "#util function to check for ints\n",
    "def check_int(value):\n",
    "    try:\n",
    "        int(value)\n",
    "        return np.NaN\n",
    "    except ValueError:\n",
    "        return value"
   ]
  },
  {
   "cell_type": "code",
   "execution_count": 4,
   "metadata": {},
   "outputs": [
    {
     "name": "stdout",
     "output_type": "stream",
     "text": [
      "<class 'pandas.core.frame.DataFrame'>\n",
      "Int64Index: 717 entries, 19325173 to 16998076\n",
      "Data columns (total 35 columns):\n",
      " #   Column                           Non-Null Count  Dtype  \n",
      "---  ------                           --------------  -----  \n",
      " 0   coordinate                       717 non-null    object \n",
      " 1   address                          717 non-null    object \n",
      " 2   location_name                    717 non-null    object \n",
      " 3   typeSummary                      717 non-null    object \n",
      " 4   ongoing_bidding                  717 non-null    bool   \n",
      " 5   foreclosure                      717 non-null    bool   \n",
      " 6   price                            716 non-null    object \n",
      " 7   price_per_area                   702 non-null    object \n",
      " 8   has_price_change                 717 non-null    bool   \n",
      " 9   rooms                            714 non-null    object \n",
      " 10  fee                              706 non-null    object \n",
      " 11  age                              717 non-null    int64  \n",
      " 12  deactivated_before_open_house    717 non-null    bool   \n",
      " 13  small_image_url                  717 non-null    object \n",
      " 14  medium_image_url                 717 non-null    object \n",
      " 15  url                              717 non-null    object \n",
      " 16  state_labels                     717 non-null    object \n",
      " 17  visible_project_units            717 non-null    int64  \n",
      " 18  broker_agency_name               717 non-null    object \n",
      " 19  locations_string                 717 non-null    object \n",
      " 20  should_highlight_showings        717 non-null    bool   \n",
      " 21  trackingData.listingId           717 non-null    object \n",
      " 22  trackingData.listingType         717 non-null    object \n",
      " 23  trackingData.listingPackageType  717 non-null    object \n",
      " 24  trackingData.listingState        717 non-null    object \n",
      " 25  trackingData.listingStatus       717 non-null    object \n",
      " 26  price_change                     128 non-null    float64\n",
      " 27  area                             717 non-null    object \n",
      " 28  date                             717 non-null    object \n",
      " 29  balcony                          717 non-null    bool   \n",
      " 30  elevator                         717 non-null    bool   \n",
      " 31  patio                            717 non-null    bool   \n",
      " 32  tenure_owned                     717 non-null    bool   \n",
      " 33  living_area                      714 non-null    object \n",
      " 34  supplemental_area                35 non-null     object \n",
      "dtypes: bool(9), float64(1), int64(2), object(23)\n",
      "memory usage: 157.5+ KB\n"
     ]
    }
   ],
   "source": [
    "df=pd.read_parquet(\"../data/transformed_data.parquet\")\n",
    "df.info()"
   ]
  },
  {
   "cell_type": "code",
   "execution_count": 5,
   "metadata": {},
   "outputs": [],
   "source": [
    "df2 = df.copy()"
   ]
  },
  {
   "cell_type": "code",
   "execution_count": 6,
   "metadata": {},
   "outputs": [],
   "source": [
    "#remove weird whitespace strings\n",
    "df2 = df2.replace('\\xa0', '', regex=True)"
   ]
  },
  {
   "cell_type": "markdown",
   "metadata": {},
   "source": [
    "import re\n",
    "\n",
    "strToIntList=['fee','price','price_per_area', 'living_area']\n",
    "df[strToIntList].fillna(value=0, inplace=True)\n",
    "\n",
    "for c in strToIntList:\n",
    "    df2[c]= re.sub(r'kr/mån|fr.|kr| |kr/m²', \"\", df2[c])"
   ]
  },
  {
   "cell_type": "code",
   "execution_count": 17,
   "metadata": {},
   "outputs": [
    {
     "name": "stderr",
     "output_type": "stream",
     "text": [
      "C:\\Users\\robbo\\AppData\\Local\\Temp\\ipykernel_26508\\2819892623.py:5: SettingWithCopyWarning: \n",
      "A value is trying to be set on a copy of a slice from a DataFrame\n",
      "\n",
      "See the caveats in the documentation: https://pandas.pydata.org/pandas-docs/stable/user_guide/indexing.html#returning-a-view-versus-a-copy\n",
      "  df2[strToIntList].fillna(value=np.nan, inplace=True)\n"
     ]
    }
   ],
   "source": [
    "#remove and replace some unwanted things in listed columns\n",
    "strToIntList=['fee','price','price_per_area', 'living_area']\n",
    "i=2\n",
    "\n",
    "df2[strToIntList].fillna(value=np.nan, inplace=True)\n",
    "\n",
    "for c in strToIntList:\n",
    "    df2[c]=df2[c].str.strip()\n",
    "    df2[c]=df2[c].str.replace('kr/mån','')\n",
    "    df2[c]=df2[c].str.replace('kr/m²','')\n",
    "    df2[c]=df2[c].str.replace('fr.','',regex=False)\n",
    "    df2[c]=df2[c].str.replace('kr','')\n",
    "    df2[c]=df2[c].str.replace(' ', '')\n",
    "    df2[c]=df2[c].str.replace('/', '')\n",
    "    df2[c]=df2[c].str.replace('m²','')\n",
    "    #df2.fee.fillna(value=np.nan, inplace=True)\n",
    "    df2[c]=df2[c].fillna(0)\n",
    "#df2['price_per_area']=df2['price_per_area'].str.replace('kr/m²','').str.replace('fr.','')\n",
    "\n",
    "#\n",
    "#"
   ]
  },
  {
   "cell_type": "code",
   "execution_count": 18,
   "metadata": {},
   "outputs": [],
   "source": [
    "#other str replaces\n",
    "df2['rooms']=df2['rooms'].str.replace(' rum','')\n",
    "df2['price']=df2['price'].replace('Prissaknas', 0)"
   ]
  },
  {
   "cell_type": "code",
   "execution_count": 22,
   "metadata": {},
   "outputs": [],
   "source": [
    "df2['fee']=df2['fee'].astype(int)\n",
    "df2['price']=df2['price'].astype(int)\n",
    "df2['price_per_area']=df2['price'].astype(int)"
   ]
  },
  {
   "cell_type": "code",
   "execution_count": 35,
   "metadata": {},
   "outputs": [
    {
     "data": {
      "text/plain": [
       "id\n",
       "19324990     127\n",
       "19325173      64\n",
       "19102415     151\n",
       "18956296    98.5\n",
       "19158120     175\n",
       "            ... \n",
       "18987175    30.5\n",
       "18976122      56\n",
       "18941998     124\n",
       "18669396      34\n",
       "16998076      34\n",
       "Name: living_area, Length: 1263, dtype: object"
      ]
     },
     "execution_count": 35,
     "metadata": {},
     "output_type": "execute_result"
    }
   ],
   "source": [
    "df2['living_area']=df2['living_area'].replace(',', '.')\n",
    "tt = str.maketrans(',', '.', '.€%')\n",
    "df2.living_area = df2.living_area.str.translate(tt)\n",
    "df2['living_area']"
   ]
  },
  {
   "attachments": {},
   "cell_type": "markdown",
   "metadata": {},
   "source": [
    "----- will drop these ones for now, since they are very weird in general... ------"
   ]
  },
  {
   "cell_type": "code",
   "execution_count": 58,
   "metadata": {},
   "outputs": [],
   "source": [
    "todrop=df2.loc[df2['living_area'].str.contains('–',na=False)]\n",
    "df3=df2.drop(index=todrop.index)"
   ]
  },
  {
   "cell_type": "code",
   "execution_count": 59,
   "metadata": {},
   "outputs": [
    {
     "data": {
      "text/html": [
       "<div>\n",
       "<style scoped>\n",
       "    .dataframe tbody tr th:only-of-type {\n",
       "        vertical-align: middle;\n",
       "    }\n",
       "\n",
       "    .dataframe tbody tr th {\n",
       "        vertical-align: top;\n",
       "    }\n",
       "\n",
       "    .dataframe thead th {\n",
       "        text-align: right;\n",
       "    }\n",
       "</style>\n",
       "<table border=\"1\" class=\"dataframe\">\n",
       "  <thead>\n",
       "    <tr style=\"text-align: right;\">\n",
       "      <th></th>\n",
       "      <th>coordinate</th>\n",
       "      <th>address</th>\n",
       "      <th>location_name</th>\n",
       "      <th>typeSummary</th>\n",
       "      <th>ongoing_bidding</th>\n",
       "      <th>foreclosure</th>\n",
       "      <th>price</th>\n",
       "      <th>price_per_area</th>\n",
       "      <th>has_price_change</th>\n",
       "      <th>rooms</th>\n",
       "      <th>...</th>\n",
       "      <th>listingStatus</th>\n",
       "      <th>price_change</th>\n",
       "      <th>area</th>\n",
       "      <th>date</th>\n",
       "      <th>balcony</th>\n",
       "      <th>elevator</th>\n",
       "      <th>patio</th>\n",
       "      <th>tenure_owned</th>\n",
       "      <th>living_area</th>\n",
       "      <th>supplemental_area</th>\n",
       "    </tr>\n",
       "    <tr>\n",
       "      <th>id</th>\n",
       "      <th></th>\n",
       "      <th></th>\n",
       "      <th></th>\n",
       "      <th></th>\n",
       "      <th></th>\n",
       "      <th></th>\n",
       "      <th></th>\n",
       "      <th></th>\n",
       "      <th></th>\n",
       "      <th></th>\n",
       "      <th></th>\n",
       "      <th></th>\n",
       "      <th></th>\n",
       "      <th></th>\n",
       "      <th></th>\n",
       "      <th></th>\n",
       "      <th></th>\n",
       "      <th></th>\n",
       "      <th></th>\n",
       "      <th></th>\n",
       "      <th></th>\n",
       "    </tr>\n",
       "  </thead>\n",
       "  <tbody>\n",
       "  </tbody>\n",
       "</table>\n",
       "<p>0 rows × 35 columns</p>\n",
       "</div>"
      ],
      "text/plain": [
       "Empty DataFrame\n",
       "Columns: [coordinate, address, location_name, typeSummary, ongoing_bidding, foreclosure, price, price_per_area, has_price_change, rooms, fee, age, deactivated_before_open_house, small_image_url, medium_image_url, url, state_labels, visible_project_units, broker_agency_name, locations_string, should_highlight_showings, listingId, listingType, listingPackageType, listingState, listingStatus, price_change, area, date, balcony, elevator, patio, tenure_owned, living_area, supplemental_area]\n",
       "Index: []\n",
       "\n",
       "[0 rows x 35 columns]"
      ]
     },
     "execution_count": 59,
     "metadata": {},
     "output_type": "execute_result"
    }
   ],
   "source": [
    "df3.loc[df3['living_area'].str.contains('–',na=False)]"
   ]
  },
  {
   "cell_type": "code",
   "execution_count": 62,
   "metadata": {},
   "outputs": [],
   "source": [
    "df3['living_area']=df3['living_area'].astype('float')"
   ]
  },
  {
   "cell_type": "code",
   "execution_count": 63,
   "metadata": {},
   "outputs": [],
   "source": [
    "df3.to_parquet('../data/2nd_transformed_data.parquet',engine='pyarrow')\n"
   ]
  }
 ],
 "metadata": {
  "kernelspec": {
   "display_name": "hemnet_transform-Rt5B78F-",
   "language": "python",
   "name": "python3"
  },
  "language_info": {
   "codemirror_mode": {
    "name": "ipython",
    "version": 3
   },
   "file_extension": ".py",
   "mimetype": "text/x-python",
   "name": "python",
   "nbconvert_exporter": "python",
   "pygments_lexer": "ipython3",
   "version": "3.10.2"
  },
  "orig_nbformat": 4,
  "vscode": {
   "interpreter": {
    "hash": "7e2554961d065952f11595ac6f4579f8f84a7ba864c84d4ea64f8e989bab681d"
   }
  }
 },
 "nbformat": 4,
 "nbformat_minor": 2
}
